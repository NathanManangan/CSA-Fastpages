{
 "cells": [
  {
   "cell_type": "markdown",
   "metadata": {},
   "source": [
    "# Unit VOCAB\n",
    "> Trimester 2 Vocabulary\n",
    "\n",
    "- toc: true \n",
    "- badges: true\n",
    "- comments: false\n",
    "- categories: [KeyLearnings]"
   ]
  },
  {
   "cell_type": "markdown",
   "metadata": {},
   "source": [
    "# VOCABULARY FOR THE UNITS\n",
    "\n",
    "### Casting and Wrapper class\n",
    "- **Casting - Division**: Round Division statement to the nearest integer. This can be used when a program can only handly integers\n",
    "- **Casting - Rounding**: Allows an equation to be rounded to the nearest integer, which can be very helpful\n",
    "- **Wrapper Classes**: Classes that can be created into a primtive type, such as int or boolean"
   ]
  },
  {
   "cell_type": "code",
   "execution_count": 1,
   "metadata": {},
   "outputs": [
    {
     "name": "stdout",
     "output_type": "stream",
     "text": [
      "3\n",
      "3.3333333333333335\n",
      "13\n"
     ]
    }
   ],
   "source": [
    "int a = 10;\n",
    "int b = 3;\n",
    "// Examples of Casting\n",
    "// Casting in Division w/ casting (rounds down a/b in comparison to a more precise answer)\n",
    "System.out.println(a/b);\n",
    "System.out.println((double) a / b);\n",
    "\n",
    "// Casting to Round/Truncate\n",
    "double c = 3.5;\n",
    "System.out.println((int)(a + c));"
   ]
  },
  {
   "cell_type": "markdown",
   "metadata": {},
   "source": [
    "### Concatenation, math and booleans\n",
    "\n",
    "- **Concatenation**: The process of joining two strings together. The + operator is used to concatenate two strings together.\n",
    "- **Java Math Class**: The import java math class gives a lot of math operations and features that can be used in your code\n",
    "- **Compound Boolean Expression**: If/Else statement block"
   ]
  },
  {
   "cell_type": "code",
   "execution_count": 2,
   "metadata": {},
   "outputs": [
    {
     "name": "stdout",
     "output_type": "stream",
     "text": [
      "Deez Nuts\n",
      "4\n",
      "2.0\n",
      "Hello\n"
     ]
    }
   ],
   "source": [
    "// Concatenation\n",
    "\n",
    "String name = \"Deez\";\n",
    "String lastName = \"Nuts\";\n",
    "\n",
    "System.out.println(name + \" \" + lastName);\n",
    "\n",
    "// Java Math Class\n",
    "\n",
    "import java.lang.Math;\n",
    "int max = 10;\n",
    "int min = 1;\n",
    "int range = max - min + 1;\n",
    "int rand = (int)(Math.random() * range) + min;\n",
    "System.out.println(rand);\n",
    "System.out.println(Math.sqrt(rand));\n",
    "\n",
    "// Compound Boolean Expression\n",
    "\n",
    "if (true) {\n",
    "    System.out.println(\"Hello\");\n",
    "} else if (false) {\n",
    "    System.out.println(\"World\");\n",
    "} else {\n",
    "    System.out.println(\"!\");\n",
    "}"
   ]
  },
  {
   "cell_type": "markdown",
   "metadata": {},
   "source": [
    "### Truth Table, De Morgans and Comparing Numbers\n",
    "\n",
    "- **Truth Table**: A table where one column is each variable and another column for the possible value of the variable\n",
    "- **De Morgans Law**: Similar to Logic Gates from CSP. Talks about how || (or) and && (and)\n",
    "- **Comparing Numbers**: Use the == operator to compare numbers\n"
   ]
  },
  {
   "cell_type": "code",
   "execution_count": 20,
   "metadata": {},
   "outputs": [
    {
     "name": "stdout",
     "output_type": "stream",
     "text": [
      "De Morgans law is true\n",
      "x is less than y\n"
     ]
    }
   ],
   "source": [
    "// De Morgans Law\n",
    "if (!((true == true) && (true == false))) {\n",
    "    System.out.println(\"De Morgans law is true\");\n",
    "}\n",
    "\n",
    "// Comparing Numbers\n",
    "int x = 1;\n",
    "int y = 2;\n",
    "\n",
    "if (x == y) {\n",
    "    System.out.println(\"x is equal to y\");\n",
    "} else if (x > y) {\n",
    "    System.out.println(\"x is greater than y\");\n",
    "} else if (x < y) {\n",
    "    System.out.println(\"x is less than y\");\n",
    "} else {\n",
    "    System.out.println(\"x is not equal to y\");\n",
    "}"
   ]
  },
  {
   "cell_type": "markdown",
   "metadata": {},
   "source": [
    "### Static Variables and Inheritance\n",
    "\n",
    "- **Static Variables**: Variables that are constant throughout the whole class. This can be beneficial when you need a variable to be able to be updated throughout the whole class\n",
    "- **Inheritance**: You can use extend method to get attributes from the class that is being extended from"
   ]
  },
  {
   "cell_type": "code",
   "execution_count": 23,
   "metadata": {},
   "outputs": [
    {
     "name": "stdout",
     "output_type": "stream",
     "text": [
      "1\n",
      "3\n"
     ]
    }
   ],
   "source": [
    "public class Test {\n",
    "    public static int counter;\n",
    "\n",
    "    public static void main(String[] args) {\n",
    "        counter = counter + 1;\n",
    "        System.out.println(counter);\n",
    "    }\n",
    "}\n",
    "\n",
    "public class ExtendsTest extends Test {\n",
    "    public static void main(String[] args) {\n",
    "        counter = counter + 2;\n",
    "        System.out.println(counter);\n",
    "    }\n",
    "}\n",
    "\n",
    "Test testExample = new Test();\n",
    "ExtendsTest extendsExample = new ExtendsTest();\n",
    "\n",
    "testExample.main(null);\n",
    "extendsExample.main(null);\n"
   ]
  },
  {
   "cell_type": "markdown",
   "metadata": {},
   "source": [
    "### Polymorphism, Overloading and Overriding\n",
    "\n",
    "- **Polymorphism**: Allows you to have multiple methods with the same name in one class. This allows you to have multiple ways to do something that is dependant on what is being passed in into the class.\n",
    "    - **Overloading** is when there are many methods that have different parameters\n",
    "    - **Overriding** is when there is a method with the same name but you modify in subclass\n",
    "    - **Late binding**  is when the compiler chooses which method to use"
   ]
  },
  {
   "cell_type": "code",
   "execution_count": 24,
   "metadata": {},
   "outputs": [
    {
     "name": "stdout",
     "output_type": "stream",
     "text": [
      "Integer: 1\n",
      "String: Hello\n",
      "Double: 1.0\n"
     ]
    }
   ],
   "source": [
    "public class PolymorphismExample {\n",
    "    public void yo(int x) {\n",
    "        System.out.println(\"Integer: \" + x);\n",
    "    }\n",
    "\n",
    "    public void yo(String x) {\n",
    "        System.out.println(\"String: \" + x);\n",
    "    }\n",
    "    \n",
    "    public void yo(double x) {\n",
    "        System.out.println(\"Double: \" + x);\n",
    "    }\n",
    "\n",
    "}\n",
    "\n",
    "PolymorphismExample poly = new PolymorphismExample();\n",
    "poly.yo(1);\n",
    "poly.yo(\"Hello\");\n",
    "poly.yo(1.0);"
   ]
  },
  {
   "cell_type": "markdown",
   "metadata": {},
   "source": [
    "### Abstract and SUper classes\n",
    "\n",
    "- **Abstract Class**: Hiding certain details but making a barebones of something. For example, an abstract class could be car and then each class inherited would be like SUV or Truck.\n",
    "- **Super Class**: By using super class you can reference the upper class"
   ]
  },
  {
   "cell_type": "code",
   "execution_count": 25,
   "metadata": {},
   "outputs": [
    {
     "name": "stdout",
     "output_type": "stream",
     "text": [
      "The SUV is saying hi\n",
      "The truck is saying hi\n"
     ]
    }
   ],
   "source": [
    "abstract class Car {\n",
    "    public void hi() {\n",
    "        System.out.println(\"Barebones Class\");\n",
    "    }\n",
    "}\n",
    "\n",
    "class SUV extends Car {\n",
    "    public void hi() {\n",
    "        System.out.println(\"The SUV is saying hi\");\n",
    "    }\n",
    "}\n",
    "\n",
    "class Truck extends Car {\n",
    "    public void hi() {\n",
    "        System.out.println(\"The truck is saying hi\");\n",
    "    }\n",
    "}\n",
    "\n",
    "// Instantiating the Car class would throw an error as it is abstract\n",
    "SUV suv = new SUV();\n",
    "Truck truck = new Truck();\n",
    "suv.hi();\n",
    "truck.hi();\n"
   ]
  },
  {
   "cell_type": "markdown",
   "metadata": {},
   "source": [
    "### Big O\n",
    "\n",
    "- **Big O Notation**: Big O notation is super helpful as it tells you how efficient your algorithm or program is. For example traversing an array would be O(n) because it depends on the size of n for how long the program will go. If you have a nested for loop then it would be O(n^2) because for each n you have another n. Hash map is O(1) and binary search is O(logn)."
   ]
  },
  {
   "cell_type": "markdown",
   "metadata": {},
   "source": []
  }
 ],
 "metadata": {
  "kernelspec": {
   "display_name": "Java",
   "language": "java",
   "name": "java"
  },
  "language_info": {
   "codemirror_mode": "java",
   "file_extension": ".jshell",
   "mimetype": "text/x-java-source",
   "name": "java",
   "pygments_lexer": "java",
   "version": "18.0.2.1+1-1"
  },
  "orig_nbformat": 4
 },
 "nbformat": 4,
 "nbformat_minor": 2
}
