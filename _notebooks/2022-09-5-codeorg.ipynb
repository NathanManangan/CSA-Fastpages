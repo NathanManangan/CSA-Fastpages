{
 "cells": [
  {
   "cell_type": "markdown",
   "metadata": {},
   "source": [
    "# \"Code.Org Proof + Learnings\"\n",
    "> \"Code.org Learnings\"\n",
    "\n",
    "- toc: true\n",
    "- branch: master\n",
    "- comments: true\n",
    "- categories: [KeyLearnings]"
   ]
  },
  {
   "cell_type": "markdown",
   "metadata": {},
   "source": [
    "# Proof of work\n",
    "![]({{ site.baseurl }}/images/easyproof.png)\n",
    "\n",
    "# Key Learnings\n",
    "### Creating Objects\n",
    "I learned about creating objects in Java for the first time, and some new knowledge that I have taken into my little tiny brain, are a few things. I learned that creating objects in Java is very similar to creating objects in JavaScript. Creating an object that already has methods built inside of it, can then be used to perform methods using \"objectName.\". The methods also use \"this.\" to create a method for any object that it will be used for."
   ]
  },
  {
   "cell_type": "code",
   "execution_count": null,
   "metadata": {},
   "outputs": [],
   "source": [
    "// Blah blah blah class header \n",
    "Painter myPainter = new Painter; // creating new object"
   ]
  },
  {
   "cell_type": "markdown",
   "metadata": {},
   "source": [
    "Or things like"
   ]
  },
  {
   "cell_type": "code",
   "execution_count": null,
   "metadata": {},
   "outputs": [],
   "source": [
    "// Blah blah blah creating method\n",
    "this.method(); // referring to current object"
   ]
  },
  {
   "cell_type": "markdown",
   "metadata": {},
   "source": [
    "I also learned that extending something is just creating a subclass of the main \"super\" class. For example,"
   ]
  },
  {
   "cell_type": "code",
   "execution_count": null,
   "metadata": {},
   "outputs": [],
   "source": [
    "public class Banana extends Fruit; // Banana is a subclass of fruit"
   ]
  }
 ],
 "metadata": {
  "kernelspec": {
   "display_name": "Java",
   "language": "java",
   "name": "java"
  },
  "language_info": {
   "name": "java",
   "version": "3.10.6"
  },
  "orig_nbformat": 4,
  "vscode": {
   "interpreter": {
    "hash": "b0fa6594d8f4cbf19f97940f81e996739fb7646882a419484c72d19e05852a7e"
   }
  }
 },
 "nbformat": 4,
 "nbformat_minor": 2
}
