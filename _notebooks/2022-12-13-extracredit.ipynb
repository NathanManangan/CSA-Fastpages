{
 "cells": [
  {
   "cell_type": "markdown",
   "metadata": {},
   "source": [
    "# \"Inheritance Notebook\"\n",
    "> \"Captures Inheritance lesson\"\n",
    "\n",
    "- toc: true\n",
    "- branch: master\n",
    "- badges: true\n",
    "- comments: true\n",
    "- categories: [KeyLearnings]"
   ]
  },
  {
   "cell_type": "markdown",
   "metadata": {},
   "source": [
    "# SD STEM Startups/ Women in STEM\n",
    "\n",
    "## Kathyleen Beveridge\n",
    "- Colleague with Mort from Qualcomm\n",
    "- MBA @ USC, BS Finance @ Santa Clara\n",
    "- High tech - HP, Qualcomm, Thermo Fisher Scientific \n",
    "- Similarities between the statements : bettering the world\n",
    "\n",
    "## Kris Porter\n",
    "- Software Engineer colleague with Mort from Qualcomm\n",
    "- UCLA for Electrical Engineering, Masters in Electrical Engineering from Cal State LA\n",
    "- Startup -> NBC -> DevOps -> Qualcomm -> Twitter\n",
    "- Has many projects that he has developed along with others that may be useful for applying to a job or to a college\n",
    "\n",
    "## Questions\n",
    "- Agile Methodology, highly regarded (Sprints)\n",
    "- When a company starts to shuffle and dispute, then start looking for a job in advance.\n",
    "- Repos cost a lot when they have plenty of storage, so its important to keep data organized and is very important with data science.\n",
    "- Most important skill - Continuous learning (learning how to learn), cant just be focused on one programming language so you have to adapt and learn more.\n",
    "- Most important skill - Don't be too concerned with stuff you see on the news, everything is high demand so don't stress too much\n",
    "- Most important skill - People that can listen, translate it to solve\n",
    "\n",
    "## Reflection\n",
    "An important thing I learned from the talk from Kathyleen and Kris was how relevant this class is to real jobs, and how much of the class applies to real life situations. As Kathyleen talked about, even scrum masters are used in work environments and work as actual job descriptions. The team roles in our scrum teams are extremely integrated within tech related work environments, likely includes many other jobs as well, but these roles do represent things that you could be working as, in a future job. Another thing that I learned, specifically from Kris, was that even though you may not excel at coding in the beginning (very relevant to me, I can relate very much) and you may fail as you start to learn it, you can still be successful in a career in computer science if you just put in a little more effort each day. I had begun to notice my faults near the ending of last year, and this year I have been slowly working to bettering myself as a coder and as a person as well. No matter how insignificant it may seem, I have begun doing stuff like keeping track of my meals, drinking more water, preparing lunches the day before and taking cold showers, all to just get myself in a better mindset for self improvement. Beginning to apply this to other things, like trying to go out and learn a little more than what was explained in tech talks or lessons, sort of like the continuous learning, will help myself in the future."
   ]
  }
 ],
 "metadata": {
  "kernelspec": {
   "display_name": "Java",
   "language": "java",
   "name": "java"
  },
  "language_info": {
   "name": "java"
  },
  "orig_nbformat": 4
 },
 "nbformat": 4,
 "nbformat_minor": 2
}
