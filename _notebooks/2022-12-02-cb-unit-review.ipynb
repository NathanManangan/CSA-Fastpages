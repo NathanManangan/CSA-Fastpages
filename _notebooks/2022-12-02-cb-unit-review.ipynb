{
 "cells": [
  {
   "cell_type": "markdown",
   "metadata": {},
   "source": []
  },
  {
   "cell_type": "markdown",
   "metadata": {},
   "source": [
    "# College Board Unit Review\n",
    "> College Board Unit Review\n",
    "\n",
    "- title: College Board Unit Review\n",
    "- badges: true\n",
    "- toc: true\n",
    "- comments: true\n",
    "- categories: [KeyLearnings]"
   ]
  },
  {
   "cell_type": "markdown",
   "metadata": {},
   "source": [
    "# Table of Scores\n",
    "\n",
    "| Unit | Score | Grading |\n",
    "| --- | --- | --- |\n",
    "| Unit 1 | 1/1 | [Link](https://lychee80.github.io/Test/2022/12/01/grades.html) |\n",
    "| Unit 2 | 0.95/1 | [Link](https://docs.google.com/spreadsheets/d/1P0QD37GN7K0e4N-_Y-90btUq3eXkbyE5RgxK9rh-4yg/edit?usp=sharing) |\n",
    "| Unit 3 | 0.9/1 | [Link](https://sarayu-pr11.github.io/teamGrapeSnails/2022/11/28/Unit3-HW.html) |\n",
    "| Unit 4 | 1/1| [Link](https://docs.google.com/spreadsheets/d/12igVnctnJg7i9oVmRxrkYzZ_Tp3wgeq_AmAuZ4qyLaY/edit#gid=0) | \n",
    "| Unit 5 | 1/1 | OUR OWN LESSON - FULL SCORE |\n",
    "| TOTAL SCORE | 4.85/5| 2 Unknown ones |\n",
    "\n",
    "<br>\n",
    "<hr>\n",
    "<br> \n",
    "\n",
    "| Unit | Score | Grading |\n",
    "| --- | --- | --- |\n",
    "| Unit 6 | 0.9/1 | [Link](https://docs.google.com/spreadsheets/d/1Hlh7VScUFSnHA3lovNoh1ao-QZu3vVuH_uCSw0tOoFU/edit#gid=0) |\n",
    "| Unit 7 | 0.8/1 (late) | [Link](https://docs.google.com/spreadsheets/d/1fe9gmbCkbB4ayEeo3xMYLjx1U96LZ4JjwGOvEHX2O0M/edit#gid=0) |\n",
    "| Unit 8 | 0.95/1 | [Link](https://aaditgupta21.github.io/fastpages-CSA/2022/12/14/Unit8Grading.html) |\n",
    "| Unit 9 | 1/1 | [Link](https://docs.google.com/spreadsheets/d/1aPcCRONduEfKhgB69PHXTSY877S1h0V8AomY5OW_THs/edit#gid=0) | \n",
    "| Unit 10 | 0.9/1 | [Link](https://docs.google.com/spreadsheets/d/1ucOgxEYKWkggvw7SJ3TuuPXu0ElscD8unKX-RNxB3No/edit#gid=0) |\n",
    "| TOTAL SCORE | 4.55/5| ----- |\n"
   ]
  },
  {
   "cell_type": "markdown",
   "metadata": {},
   "source": [
    "### Unit 1 Primitives\n",
    "\n",
    "#### Casting (Division & Rounding/Truncating)"
   ]
  },
  {
   "cell_type": "code",
   "execution_count": 11,
   "metadata": {
    "vscode": {
     "languageId": "java"
    }
   },
   "outputs": [
    {
     "name": "stdout",
     "output_type": "stream",
     "text": [
      "3\n",
      "3.3333333333333335\n",
      "13\n"
     ]
    }
   ],
   "source": [
    "int a = 10;\n",
    "int b = 3;\n",
    "// Examples of Casting\n",
    "// Casting in Division w/ casting (rounds down a/b in comparison to a more precise answer)\n",
    "System.out.println(a/b);\n",
    "System.out.println((double) a / b);\n",
    "\n",
    "// Casting to Round/Truncate\n",
    "double c = 3.5;\n",
    "System.out.println((int)(a + c));"
   ]
  },
  {
   "cell_type": "markdown",
   "metadata": {},
   "source": [
    "#### Wrapper Classes"
   ]
  },
  {
   "cell_type": "code",
   "execution_count": 30,
   "metadata": {
    "vscode": {
     "languageId": "java"
    }
   },
   "outputs": [
    {
     "name": "stdout",
     "output_type": "stream",
     "text": [
      "10\n",
      "This is a Wrapper Class: 10\n",
      "[10, 5]\n"
     ]
    }
   ],
   "source": [
    "import java.util.ArrayList;\n",
    "\n",
    "// To initialize a Wrapper class as a variable, you instantiate just like any object\n",
    "Integer wrapperInteger = new Integer(10);\n",
    "System.out.println(wrapperInteger);\n",
    "\n",
    "// Some object only methods are shown below\n",
    "// toString() method\n",
    "System.out.println(\"This is a Wrapper Class: \" + wrapperInteger.toString());\n",
    "\n",
    "// ArrayLists\n",
    "ArrayList<Integer> integers = new ArrayList<Integer>();\n",
    "integers.add(wrapperInteger);\n",
    "System.out.println(integers);"
   ]
  },
  {
   "cell_type": "markdown",
   "metadata": {},
   "source": [
    "### Unit 2 Using Objects "
   ]
  },
  {
   "cell_type": "markdown",
   "metadata": {},
   "source": [
    "#### Concatenation"
   ]
  },
  {
   "cell_type": "code",
   "execution_count": 32,
   "metadata": {
    "vscode": {
     "languageId": "java"
    }
   },
   "outputs": [
    {
     "name": "stdout",
     "output_type": "stream",
     "text": [
      "My Name: Don\n",
      "My Age: 17\n"
     ]
    }
   ],
   "source": [
    "String name = \"Nathan\"; Integer age = new Integer(17);\n",
    "System.out.println(\"My Name: \" + name);\n",
    "System.out.println(\"My Age: \" + age.toString());"
   ]
  },
  {
   "cell_type": "markdown",
   "metadata": {},
   "source": [
    "#### Math Class (Random)"
   ]
  },
  {
   "cell_type": "code",
   "execution_count": 34,
   "metadata": {
    "vscode": {
     "languageId": "java"
    }
   },
   "outputs": [
    {
     "name": "stdout",
     "output_type": "stream",
     "text": [
      "10.0\n",
      "11.0\n",
      "1000.0\n",
      "0.6931471805599453\n",
      "16\n",
      "0.7980473864210647\n"
     ]
    }
   ],
   "source": [
    "// Floor Function  \n",
    "System.out.println(Math.floor(10.999999999));\n",
    "\n",
    "// Ceiling Function\n",
    "System.out.println(Math.ceil(10.999999999));\n",
    "\n",
    "// Exponents\n",
    "System.out.println(Math.pow(10, 3));\n",
    "\n",
    "// Logarithms in base 10\n",
    "System.out.println(Math.log(2));\n",
    "\n",
    "// Rounding\n",
    "System.out.println(Math.round(15.546432));\n",
    "\n",
    "// Random (generates random number btwn 0 & 1)\n",
    "System.out.println(Math.random());\n",
    "\n"
   ]
  },
  {
   "cell_type": "markdown",
   "metadata": {},
   "source": [
    "### Unit 3 Booleans, If/Else Statements, & Comparison"
   ]
  },
  {
   "cell_type": "markdown",
   "metadata": {},
   "source": [
    "#### Comparisons w/ Primitives (numbers, characters, booleans), Strings, & Objects"
   ]
  },
  {
   "cell_type": "code",
   "execution_count": 36,
   "metadata": {
    "vscode": {
     "languageId": "java"
    }
   },
   "outputs": [
    {
     "name": "stdout",
     "output_type": "stream",
     "text": [
      "true\n",
      "false\n",
      "true\n",
      "false\n",
      "false\n"
     ]
    }
   ],
   "source": [
    "int a = 0;\n",
    "int b = 0;\n",
    "int c = 1;\n",
    "\n",
    "// Comparing two same numbers\n",
    "System.out.println(a == b);\n",
    "\n",
    "// Comparing two different numbers\n",
    "System.out.println(a == c);\n",
    "\n",
    "String as = new String(\"yay\");\n",
    "String bs = new String(\"cool\");\n",
    "\n",
    "// Comparing the same string to itself (SAME memory location)\n",
    "System.out.println(as == as);\n",
    "\n",
    "// Comparing strings with same content using wrong operator (DIFFERENT memory location)\n",
    "System.out.println(as == bs);\n",
    "\n",
    "// Comparing strings with same content using correct .equals()\n",
    "System.out.println(as.equals(bs));"
   ]
  },
  {
   "cell_type": "markdown",
   "metadata": {},
   "source": [
    "#### Compound Boolean Expression"
   ]
  },
  {
   "cell_type": "code",
   "execution_count": 37,
   "metadata": {
    "vscode": {
     "languageId": "java"
    }
   },
   "outputs": [
    {
     "name": "stdout",
     "output_type": "stream",
     "text": [
      "false\n"
     ]
    }
   ],
   "source": [
    "boolean a = true;\n",
    "boolean b = false;\n",
    "\n",
    "// Creating a compound expression\n",
    "boolean compound = !(a && b) && (b || a) && (!b && !a);\n",
    "\n",
    "// Printing the result\n",
    "System.out.println(compound);"
   ]
  },
  {
   "cell_type": "markdown",
   "metadata": {},
   "source": [
    "#### De Morgan's Law"
   ]
  },
  {
   "cell_type": "code",
   "execution_count": 38,
   "metadata": {
    "vscode": {
     "languageId": "java"
    }
   },
   "outputs": [
    {
     "name": "stdout",
     "output_type": "stream",
     "text": [
      "false false false\n"
     ]
    }
   ],
   "source": [
    "boolean a = true;\n",
    "boolean b = false;\n",
    "boolean c = true;\n",
    "boolean d = false;\n",
    "\n",
    "// complicated boolean expression\n",
    "boolean res1 = !((!(a && b)) || (!(a || b)));\n",
    "\n",
    "// simplified using De Morgan's Law once\n",
    "boolean res2 = !((!a || !b) || (!a && !b));\n",
    "\n",
    "//simplified using De Morgan's Law twice\n",
    "boolean res3 = !(!a || !b) && !(!a && !b);\n",
    "\n",
    "// all results are the same\n",
    "System.out.println(res1 + \" \" + res2 + \" \" + res3);"
   ]
  },
  {
   "cell_type": "markdown",
   "metadata": {},
   "source": [
    "### Unit 4 Loops"
   ]
  },
  {
   "cell_type": "markdown",
   "metadata": {},
   "source": [
    "#### For Loop & Enhanced For Loop"
   ]
  },
  {
   "cell_type": "code",
   "execution_count": null,
   "metadata": {
    "vscode": {
     "languageId": "java"
    }
   },
   "outputs": [],
   "source": [
    "// looping through even numbers\n",
    "for (int i = 0; i<10; i+=2) {\n",
    "    System.out.println(i);\n",
    "  }\n",
    "  \n",
    "  int[] arr = {1, 2, 3, 7, 8};\n",
    "  \n",
    "  // looping through array with conventional for lopo\n",
    "  for (int i = 0; i<arr.length; i++) {\n",
    "    System.out.println(arr[i]);\n",
    "  }\n",
    "  \n",
    "  // looping through array with enhanced for loop\n",
    "  for (int i : arr) {\n",
    "    System.out.println(i);\n",
    "  }"
   ]
  },
  {
   "cell_type": "markdown",
   "metadata": {},
   "source": [
    "#### While Loop & Do While Loop"
   ]
  },
  {
   "cell_type": "code",
   "execution_count": null,
   "metadata": {
    "vscode": {
     "languageId": "java"
    }
   },
   "outputs": [],
   "source": [
    "int i = 0;\n",
    "boolean falseBool = false;\n",
    "\n",
    "// printing even numbers with while loop\n",
    "while (i < 10) {\n",
    "  System.out.println(i);\n",
    "  i += 2;\n",
    "}\n",
    "\n",
    "// if condition is false while loop does not run at all\n",
    "while (falseBool) {\n",
    "  System.out.println(\"inside while loop\");\n",
    "}\n",
    "\n",
    "// if condition is false in do while, the loop runs once\n",
    "do {\n",
    "  System.out.println(\"inside do-while loop\");\n",
    "} while (falseBool);"
   ]
  },
  {
   "cell_type": "markdown",
   "metadata": {},
   "source": [
    "#### Nested Loops"
   ]
  },
  {
   "cell_type": "code",
   "execution_count": 39,
   "metadata": {
    "vscode": {
     "languageId": "java"
    }
   },
   "outputs": [
    {
     "name": "stdout",
     "output_type": "stream",
     "text": [
      "1 2 3 \n",
      "4 5 6 \n",
      "7 8 9 \n"
     ]
    }
   ],
   "source": [
    "int[][] arr = {\n",
    "    {1, 2, 3},\n",
    "    {4, 5, 6},\n",
    "    {7, 8, 9}\n",
    "  };\n",
    "  \n",
    "  // using nested for loops for 2D array\n",
    "  for (int i = 0; i<arr.length; i++) {\n",
    "    for (int j = 0; j<arr[i].length; j++) {\n",
    "      System.out.print(arr[i][j] + \" \");\n",
    "    }\n",
    "    System.out.println();\n",
    "  }"
   ]
  },
  {
   "cell_type": "markdown",
   "metadata": {},
   "source": [
    "### Unit 5 Classes (Own Lesson)"
   ]
  },
  {
   "cell_type": "markdown",
   "metadata": {},
   "source": [
    "Creating a Class"
   ]
  },
  {
   "cell_type": "code",
   "execution_count": null,
   "metadata": {
    "vscode": {
     "languageId": "java"
    }
   },
   "outputs": [],
   "source": [
    "class SomeClass{\n",
    "    \n",
    "}"
   ]
  },
  {
   "cell_type": "markdown",
   "metadata": {},
   "source": [
    "Main Method & Tester Methods"
   ]
  },
  {
   "cell_type": "code",
   "execution_count": 41,
   "metadata": {
    "vscode": {
     "languageId": "java"
    }
   },
   "outputs": [
    {
     "name": "stdout",
     "output_type": "stream",
     "text": [
      "cool main method\n"
     ]
    }
   ],
   "source": [
    "class SomeClass {\n",
    "    // main method (definition for main method, more on individual parts later)\n",
    "    public static void main(String[] args){\n",
    "        System.out.println(\"cool main method\");\n",
    "    }\n",
    "}\n",
    "\n",
    "SomeClass.main(null);"
   ]
  },
  {
   "cell_type": "markdown",
   "metadata": {},
   "source": [
    "this Keyword\n",
    "The \"this\" keyword allows you to access properties of the class. See constructor example to see use of this keyword."
   ]
  },
  {
   "cell_type": "markdown",
   "metadata": {},
   "source": [
    "Constructors"
   ]
  },
  {
   "cell_type": "code",
   "execution_count": 60,
   "metadata": {
    "vscode": {
     "languageId": "java"
    }
   },
   "outputs": [
    {
     "name": "stdout",
     "output_type": "stream",
     "text": [
      "123\n",
      "abc\n"
     ]
    }
   ],
   "source": [
    "// creating a class (camel casing w/ first letter capitalized)\n",
    "class SomeClass {\n",
    "    int someInt;\n",
    "    String someString;\n",
    "\n",
    "    // Constructor\n",
    "    public SomeClass(int someInt, String someString){ // constructor passes in outside parameters if we want to initialize certain fields\n",
    "        // this references objects own fields to differentiate (more on that later)\n",
    "        this.someInt = someInt;\n",
    "        this.someString = someString;\n",
    "    }\n",
    "\n",
    "    public static void main(String[] args){\n",
    "        SomeClass obj = new SomeClass(123, \"abc\");\n",
    "    \n",
    "        System.out.println(obj.someInt);\n",
    "        System.out.println(obj.someString);\n",
    "    }\n",
    "}\n",
    "\n",
    "SomeClass.main(null);"
   ]
  },
  {
   "cell_type": "markdown",
   "metadata": {},
   "source": [
    "#### Mutator Methods & Setter Methods\n",
    "These methods are used to get properties of an object from the outside the class definition. They are almost always necessary for private variables within classes.\n",
    "\n",
    "Getters can be applied on only the properties which should be accessed outside the class. They always have a return type of whatever data field is being retrieved. \n",
    "\n",
    "Setters are used to only set properties which are set outside the class. They are always void methods as their only purpose is to set variables.\n"
   ]
  },
  {
   "cell_type": "code",
   "execution_count": 62,
   "metadata": {
    "vscode": {
     "languageId": "java"
    }
   },
   "outputs": [
    {
     "name": "stdout",
     "output_type": "stream",
     "text": [
      "123\n"
     ]
    }
   ],
   "source": [
    "class SomeClass {\n",
    "    private int someInt;\n",
    "    private String someString;\n",
    "\n",
    "    public SomeClass(int someInt, String someString){ \n",
    "        this.someInt = someInt;\n",
    "        this.someString = someString;\n",
    "    }\n",
    "\n",
    "    // Getter method\n",
    "    public int getSomeInt(){\n",
    "        return this.someInt;\n",
    "    }\n",
    "\n",
    "    public static void main(String[] args){\n",
    "      SomeClass obj = new SomeClass(123, \"abc\");\n",
    "\n",
    "      //Using Getter Method\n",
    "      System.out.println(obj.getSomeInt());\n",
    "    }\n",
    "}\n",
    "\n",
    "SomeClass.main(null);"
   ]
  },
  {
   "cell_type": "code",
   "execution_count": 64,
   "metadata": {
    "vscode": {
     "languageId": "java"
    }
   },
   "outputs": [
    {
     "name": "stdout",
     "output_type": "stream",
     "text": [
      "111\n"
     ]
    }
   ],
   "source": [
    "class SomeClass {\n",
    "  private int someInt;\n",
    "  private String someString;\n",
    "\n",
    "  public SomeClass(int someInt, String someString){ \n",
    "      this.someInt = someInt;\n",
    "      this.someString = someString;\n",
    "  }\n",
    "\n",
    "  public int getSomeInt(){\n",
    "      return this.someInt;\n",
    "  }\n",
    "\n",
    "  // Setter\n",
    "  public void setSomeInt(int newInt){\n",
    "       this.someInt = newInt;\n",
    "  }\n",
    "\n",
    "  public static void main(String[] args){\n",
    "      SomeClass obj = new SomeClass(123, \"abc\");\n",
    "\n",
    "      // Using setter method\n",
    "      obj.setSomeInt(111);\n",
    "      System.out.println(obj.getSomeInt());\n",
    "  }\n",
    "}\n",
    "\n",
    "SomeClass.main(null);"
   ]
  },
  {
   "cell_type": "markdown",
   "metadata": {},
   "source": [
    "### Unit 6 Arrays\n",
    "What is an Array?\n",
    "Element -> 1 value in an array\n",
    "Index -> the position of the value in the array\n",
    "Declaring an array int[] array = new int[10];\n",
    "Bound errors -> accessing an element that does not exist\n",
    "Uninitialized and Unfilled arrays, assigning an array variable but not the whole array\n",
    "Traversing array, can use while but mainly for loop\n",
    "enhanced for loop .. for (int element:values)"
   ]
  },
  {
   "cell_type": "code",
   "execution_count": 1,
   "metadata": {
    "vscode": {
     "languageId": "java"
    }
   },
   "outputs": [
    {
     "name": "stdout",
     "output_type": "stream",
     "text": [
      "0th Index = 1\n",
      "4th Index = 5\n",
      "0th Index = 5\n",
      "4th Index = 1\n",
      "50301"
     ]
    }
   ],
   "source": [
    "public class ArrayMethods {\n",
    "    private static int[] values = {1,2,3,4,5}; // Array\n",
    "\n",
    "    public static void swap(){\n",
    "        System.out.println(\"0th Index = \" + values[0]);\n",
    "        System.out.println(\"4th Index = \" + values[4]);\n",
    "        int a = values[0];\n",
    "        int b = values[4];\n",
    "        values[0] = b;\n",
    "        values[4] = a;\n",
    "        System.out.println(\"0th Index = \" + values[0]);\n",
    "        System.out.println(\"4th Index = \" + values[4]);\n",
    "    }\n",
    "\n",
    "\n",
    "    public static void replaceZero(){\n",
    "        for(int i = 0; i < values.length; i++){\n",
    "            if(values[i] % 2 == 0){\n",
    "                values[i] = 0;\n",
    "            }\n",
    "        }\n",
    "        for(int i : values){\n",
    "            System.out.print(i);\n",
    "        }\n",
    "    }\n",
    "}\n",
    "\n",
    "ArrayMethods.swap();\n",
    "ArrayMethods.replaceZero();"
   ]
  },
  {
   "cell_type": "markdown",
   "metadata": {},
   "source": [
    "### Unit 7 ArrayLists\n",
    "An ArrayList is like an array but the length can be changed. For ArrayList you must use a wrapper class rather than a primitive Due to ArrayList using generics. ArrayList can also work with enhanced for loops and have many convenient functions."
   ]
  },
  {
   "cell_type": "code",
   "execution_count": null,
   "metadata": {
    "vscode": {
     "languageId": "java"
    }
   },
   "outputs": [],
   "source": [
    "// using \"Integer\" wrapper class\n",
    "ArrayList<Integer> listOfIntegers = new ArrayList<>();\n",
    "\n",
    "// Explicitly creating integer\n",
    "listOfIntegers.add(new Integer(10));\n",
    "\n",
    "// automatically converts to Integer\n",
    "listOfIntegers.add(1);\n",
    "\n",
    "// using toString method of ArrayList\n",
    "System.out.println(listOfIntegers);"
   ]
  },
  {
   "cell_type": "markdown",
   "metadata": {},
   "source": [
    "### Unit 8 2D Arrays\n",
    "Arrays can be placed inside arrays, creating 2D array. Useful for representing 2d space, or text (as 2d). Defined by using two pairs of square brackets after the type. Can be traversed using nested for loop. Concept of putting one for loop inside another. Really useful for traversing 2d arrays."
   ]
  },
  {
   "cell_type": "code",
   "execution_count": 3,
   "metadata": {
    "vscode": {
     "languageId": "java"
    }
   },
   "outputs": [
    {
     "name": "stdout",
     "output_type": "stream",
     "text": [
      "Regular Array - Unaltered\n",
      "123 \n",
      "456 \n",
      "789 \n",
      " \n",
      "Array - Reversed\n",
      "789 \n",
      "456 \n",
      "123 \n",
      " \n",
      "Array - Input display\n",
      "Enter row (integer)\n",
      "Enter column (integer)\n",
      "Row: 1 | Column: 1 | Number: 1\n",
      " \n",
      "Array - Sum of Products of Rows\n",
      "Sum = 630\n"
     ]
    }
   ],
   "source": [
    "public class AaditGupta {\n",
    "    int[][] bananas = {{1,2,3}, {4,5,6}, {7,8,9}};\n",
    "\n",
    "    public void regular(){\n",
    "        System.out.println(\"Regular Array - Unaltered\");\n",
    "        for(int i = 0; bananas.length > i; i++){\n",
    "            for(int j=0; j < bananas[i].length; j++){\n",
    "                System.out.print(bananas[i][j]);\n",
    "            }\n",
    "            System.out.println(\" \");\n",
    "        }\n",
    "        System.out.println(\" \");\n",
    "    }\n",
    "\n",
    "    public void mixmix(){\n",
    "        int[] a = bananas[0];\n",
    "        int[] b = bananas[2];\n",
    "        bananas[0] = b;\n",
    "        bananas[2] = a;\n",
    "        System.out.println(\"Array - Reversed\");\n",
    "        for(int i = 0; bananas.length > i; i++){\n",
    "            for(int j=0; j < bananas[i].length; j++){\n",
    "                System.out.print(bananas[i][j]);\n",
    "            }\n",
    "            System.out.println(\" \");\n",
    "        }\n",
    "        bananas[2] = b;\n",
    "        bananas[0] = a;\n",
    "        System.out.println(\" \");\n",
    "    }\n",
    "    \n",
    "    public void input(){\n",
    "        System.out.println(\"Array - Input display\");\n",
    "        Scanner myObj = new Scanner(System.in);  \n",
    "        System.out.println(\"Enter row (integer)\");\n",
    "        int row = myObj.nextInt() - 1;  // Read user input\n",
    "        System.out.println(\"Enter column (integer)\");\n",
    "        int column = myObj.nextInt() - 1;  // Read user input\n",
    "        System.out.println(\"Row: \" + (row+1) + \" | Column: \" + (column+1) + \" | Number: \" +bananas[row][column]);\n",
    "        System.out.println(\" \");\n",
    "    }\n",
    "\n",
    "    public void multiply(){\n",
    "        System.out.println(\"Array - Sum of Products of Rows\");\n",
    "        int a = 0;\n",
    "        int sum = 0;\n",
    "        boolean first = true;\n",
    "        for(int i=0; i < bananas.length; i++){\n",
    "            for(int j=0; j < bananas[i].length; j++){\n",
    "                if(first == true){\n",
    "                    a += bananas[i][j];\n",
    "                    first = false;\n",
    "                }\n",
    "                else{\n",
    "                    a *= bananas[i][j];\n",
    "                }\n",
    "            }\n",
    "            sum += a;\n",
    "            a = 0;\n",
    "            first = true;\n",
    "        }\n",
    "        // 6, 120, 504\n",
    "        System.out.println(\"Sum = \" + sum); // 630\n",
    "    }\n",
    "\n",
    "    public static void main(String[] args) {\n",
    "        AaditGupta aaditGupta = new AaditGupta();\n",
    "        aaditGupta.regular();\n",
    "        aaditGupta.mixmix();\n",
    "        aaditGupta.input();\n",
    "        aaditGupta.multiply();\n",
    "    }\n",
    "}\n",
    "\n",
    "AaditGupta.main(null);"
   ]
  },
  {
   "cell_type": "markdown",
   "metadata": {},
   "source": [
    "### Unit 9 Inheritance\n",
    "Inheritance can be used when two classes share similar functionality. Allows super class to have base functionality (ie. car). Sub class adds additional functionality to the base (ie. tesla car) \"extends\" and \"abstract\" keywords can be used to define inheritance in Java.\n",
    "\n",
    "Extends key word\n",
    "Defines a sub class that inherits all the methods from the super class. Useful because you don't need to redefine everything from super class.\n"
   ]
  },
  {
   "cell_type": "code",
   "execution_count": 4,
   "metadata": {
    "vscode": {
     "languageId": "java"
    }
   },
   "outputs": [
    {
     "name": "stdout",
     "output_type": "stream",
     "text": [
      "Student (name: Don, birthday: 2005, coding: true, gpa:5.0, grade: 11)\n",
      "Person (name: Johnny Sins, birthday: 1985)\n",
      "Teacher (name: Mortensen, birthday: Since Forever, subject: CODE CODE CODE, degree: IDK lmao)\n"
     ]
    }
   ],
   "source": [
    "public class Person {\n",
    "    protected String name;\n",
    "    protected String birthday;\n",
    " \n",
    "    public Person (String name, String birthday){\n",
    "       this.name = name;\n",
    "       this.birthday = birthday;\n",
    "    }\n",
    " \n",
    "    public String getName(){\n",
    "       return name;\n",
    "    }\n",
    "\n",
    "    public int getAge() {\n",
    "         return 2022 - Integer.parseInt(birthday);\n",
    "    }\n",
    "\n",
    "    @Override\n",
    "    public String toString() {\n",
    "         return \"Person (name: \" + name + \", birthday: \" + birthday + \")\";\n",
    "    }\n",
    " }\n",
    " \n",
    " public class Student extends Person { // extends\n",
    "    private int grade;\n",
    "    private double gpa;\n",
    "    private String coding;\n",
    " \n",
    "    public Student (String name, String birthday, int grade, double gpa, String coding) {\n",
    "       super(name, birthday); // use of super()\n",
    "       this.grade = grade;\n",
    "       this.gpa = gpa;\n",
    "       this.coding = coding;\n",
    "    }\n",
    "\n",
    "    // return gpa\n",
    "    public double getGPA() {\n",
    "        return gpa;\n",
    "    }\n",
    "\n",
    "    public String coding() {\n",
    "        return coding;\n",
    "    }\n",
    "\n",
    "    // return grade\n",
    "    public int getGrade(){\n",
    "       return grade;\n",
    "    }\n",
    "\n",
    "    @Override // override override\n",
    "    public String toString() {\n",
    "         return \"Student (name: \" + name + \", birthday: \" + birthday + \", coding: \" + coding + \", gpa:\" + gpa + \", grade: \" + grade + \")\";\n",
    "    }\n",
    " }\n",
    "\n",
    " public class Teacher extends Person {\n",
    "      private String subject;\n",
    "      private String degree;\n",
    "   \n",
    "      public Teacher (String name, String birthday, String subject, String degree) {\n",
    "         super(name, birthday);\n",
    "         this.subject = subject;\n",
    "         this.degree = degree;\n",
    "      }\n",
    "   \n",
    "      // return subject\n",
    "      public String getSubject() {\n",
    "         return subject;\n",
    "      }\n",
    "\n",
    "   \n",
    "      // return degree\n",
    "      public String getDegree() {\n",
    "         return degree;\n",
    "      }\n",
    "\n",
    "      @Override\n",
    "      public String toString() {\n",
    "            return \"Teacher (name: \" + name + \", birthday: \" + birthday + \", subject: \" + subject + \", degree: \" + degree + \")\";\n",
    "      }\n",
    " }\n",
    "\n",
    "Person johnnysins = new Person(\"Johnny Sins\", \"1985\");\n",
    "Person don = new Student(\"Don\", \"2005\", 11, 5.0, \"true\");\n",
    "Person mortensen = new Teacher(\"Mortensen\", \"Since Forever\", \"CODE CODE CODE\", \"IDK lmao\");\n",
    "System.out.println(don.toString());\n",
    "System.out.println(johnnysins.toString());\n",
    "System.out.println(mortensen.toString());"
   ]
  },
  {
   "cell_type": "markdown",
   "metadata": {},
   "source": [
    "### Unit 10 Recursion\n",
    "Recursion can be used in situations where you need to repeatedly do something, instead of loops. Recursion must call itself and have a base case. Base case allows the recursion to end at some point.\n",
    "\n",
    "Big O notation for Hash map, Binary Search, Single loop, Nested Loop\n",
    "Used to describe the most time it would take for a function to run (without constants). For example, the recursion below would take O(n) time as it has to go through n iterations to calculate the factorial."
   ]
  },
  {
   "cell_type": "code",
   "execution_count": null,
   "metadata": {
    "vscode": {
     "languageId": "java"
    }
   },
   "outputs": [],
   "source": [
    "public int factorial (int n) {\n",
    "    if (n == 0 || n == 1) {\n",
    "      return 1;\n",
    "    }\n",
    "    return n * factorial(n-1);\n",
    "}\n",
    "  \n",
    "  System.out.println(factorial(5));"
   ]
  }
 ],
 "metadata": {
  "kernelspec": {
   "display_name": "Java",
   "language": "java",
   "name": "java"
  },
  "language_info": {
   "codemirror_mode": "java",
   "file_extension": ".jshell",
   "mimetype": "text/x-java-source",
   "name": "Java",
   "pygments_lexer": "java",
   "version": "18.0.2.1+1-1"
  },
  "orig_nbformat": 4
 },
 "nbformat": 4,
 "nbformat_minor": 2
}
