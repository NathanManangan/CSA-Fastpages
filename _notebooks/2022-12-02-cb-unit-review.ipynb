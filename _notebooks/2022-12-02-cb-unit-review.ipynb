{
 "cells": [
  {
   "cell_type": "markdown",
   "metadata": {},
   "source": []
  },
  {
   "cell_type": "markdown",
   "metadata": {},
   "source": [
    "# College Board Unit Review\n",
    "> College Board Unit Review\n",
    "\n",
    "- title: College Board Unit Review\n",
    "- badges: true\n",
    "- toc: true\n",
    "- comments: true\n",
    "- categories: [KeyLearnings]"
   ]
  },
  {
   "cell_type": "markdown",
   "metadata": {},
   "source": [
    "# Table of Scores\n",
    "\n",
    "| Unit | Score | Grading |\n",
    "| --- | --- | --- |\n",
    "| Unit 1 | 1/1 | [Link](https://lychee80.github.io/Test/2022/12/01/grades.html) |\n",
    "| Unit 2 | 0.95/1 | [Link](https://docs.google.com/spreadsheets/d/1P0QD37GN7K0e4N-_Y-90btUq3eXkbyE5RgxK9rh-4yg/edit?usp=sharing) |\n",
    "| Unit 3 | 0.9/1 | [Link](https://sarayu-pr11.github.io/teamGrapeSnails/2022/11/28/Unit3-HW.html) |\n",
    "| Unit 4 | 1/1| [Link](https://docs.google.com/spreadsheets/d/12igVnctnJg7i9oVmRxrkYzZ_Tp3wgeq_AmAuZ4qyLaY/edit#gid=0) | \n",
    "| Unit 5 | NONE | OUR OWN LESSON - NO SCORE? |\n",
    "| Unit 6 | NONE | UNKNOWN |\n",
    "| TOTAL SCORE | 3.85/4| 2 Unknown ones |"
   ]
  },
  {
   "cell_type": "markdown",
   "metadata": {},
   "source": [
    "### Unit 1 Primitives\n",
    "\n",
    "#### Casting (Division & Rounding/Truncating)"
   ]
  },
  {
   "cell_type": "code",
   "execution_count": 11,
   "metadata": {},
   "outputs": [
    {
     "name": "stdout",
     "output_type": "stream",
     "text": [
      "3\n",
      "3.3333333333333335\n",
      "13\n"
     ]
    }
   ],
   "source": [
    "int a = 10;\n",
    "int b = 3;\n",
    "// Examples of Casting\n",
    "// Casting in Division w/ casting (rounds down a/b in comparison to a more precise answer)\n",
    "System.out.println(a/b);\n",
    "System.out.println((double) a / b);\n",
    "\n",
    "// Casting to Round/Truncate\n",
    "double c = 3.5;\n",
    "System.out.println((int)(a + c));"
   ]
  },
  {
   "cell_type": "markdown",
   "metadata": {},
   "source": [
    "#### Wrapper Classes"
   ]
  },
  {
   "cell_type": "code",
   "execution_count": 30,
   "metadata": {},
   "outputs": [
    {
     "name": "stdout",
     "output_type": "stream",
     "text": [
      "10\n",
      "This is a Wrapper Class: 10\n",
      "[10, 5]\n"
     ]
    }
   ],
   "source": [
    "import java.util.ArrayList;\n",
    "\n",
    "// To initialize a Wrapper class as a variable, you instantiate just like any object\n",
    "Integer wrapperInteger = new Integer(10);\n",
    "System.out.println(wrapperInteger);\n",
    "\n",
    "// Some object only methods are shown below\n",
    "// toString() method\n",
    "System.out.println(\"This is a Wrapper Class: \" + wrapperInteger.toString());\n",
    "\n",
    "// ArrayLists\n",
    "ArrayList<Integer> integers = new ArrayList<Integer>();\n",
    "integers.add(wrapperInteger);\n",
    "System.out.println(integers);"
   ]
  },
  {
   "cell_type": "markdown",
   "metadata": {},
   "source": [
    "### Unit 2 Using Objects "
   ]
  },
  {
   "cell_type": "markdown",
   "metadata": {},
   "source": [
    "#### Concatenation"
   ]
  },
  {
   "cell_type": "code",
   "execution_count": 32,
   "metadata": {},
   "outputs": [
    {
     "name": "stdout",
     "output_type": "stream",
     "text": [
      "My Name: Don\n",
      "My Age: 17\n"
     ]
    }
   ],
   "source": [
    "String name = \"Nathan\"; Integer age = new Integer(17);\n",
    "System.out.println(\"My Name: \" + name);\n",
    "System.out.println(\"My Age: \" + age.toString());"
   ]
  },
  {
   "cell_type": "markdown",
   "metadata": {},
   "source": [
    "#### Math Class (Random)"
   ]
  },
  {
   "cell_type": "code",
   "execution_count": 34,
   "metadata": {},
   "outputs": [
    {
     "name": "stdout",
     "output_type": "stream",
     "text": [
      "10.0\n",
      "11.0\n",
      "1000.0\n",
      "0.6931471805599453\n",
      "16\n",
      "0.7980473864210647\n"
     ]
    }
   ],
   "source": [
    "// Floor Function  \n",
    "System.out.println(Math.floor(10.999999999));\n",
    "\n",
    "// Ceiling Function\n",
    "System.out.println(Math.ceil(10.999999999));\n",
    "\n",
    "// Exponents\n",
    "System.out.println(Math.pow(10, 3));\n",
    "\n",
    "// Logarithms in base 10\n",
    "System.out.println(Math.log(2));\n",
    "\n",
    "// Rounding\n",
    "System.out.println(Math.round(15.546432));\n",
    "\n",
    "// Random (generates random number btwn 0 & 1)\n",
    "System.out.println(Math.random());\n",
    "\n"
   ]
  },
  {
   "cell_type": "markdown",
   "metadata": {},
   "source": [
    "### Unit 3 Booleans, If/Else Statements, & Comparison"
   ]
  },
  {
   "cell_type": "markdown",
   "metadata": {},
   "source": [
    "#### Comparisons w/ Primitives (numbers, characters, booleans), Strings, & Objects"
   ]
  },
  {
   "cell_type": "code",
   "execution_count": 36,
   "metadata": {},
   "outputs": [
    {
     "name": "stdout",
     "output_type": "stream",
     "text": [
      "true\n",
      "false\n",
      "true\n",
      "false\n",
      "false\n"
     ]
    }
   ],
   "source": [
    "int a = 0;\n",
    "int b = 0;\n",
    "int c = 1;\n",
    "\n",
    "// Comparing two same numbers\n",
    "System.out.println(a == b);\n",
    "\n",
    "// Comparing two different numbers\n",
    "System.out.println(a == c);\n",
    "\n",
    "String as = new String(\"yay\");\n",
    "String bs = new String(\"cool\");\n",
    "\n",
    "// Comparing the same string to itself (SAME memory location)\n",
    "System.out.println(as == as);\n",
    "\n",
    "// Comparing strings with same content using wrong operator (DIFFERENT memory location)\n",
    "System.out.println(as == bs);\n",
    "\n",
    "// Comparing strings with same content using correct .equals()\n",
    "System.out.println(as.equals(bs));"
   ]
  },
  {
   "cell_type": "markdown",
   "metadata": {},
   "source": [
    "#### Compound Boolean Expression"
   ]
  },
  {
   "cell_type": "code",
   "execution_count": 37,
   "metadata": {},
   "outputs": [
    {
     "name": "stdout",
     "output_type": "stream",
     "text": [
      "false\n"
     ]
    }
   ],
   "source": [
    "boolean a = true;\n",
    "boolean b = false;\n",
    "\n",
    "// Creating a compound expression\n",
    "boolean compound = !(a && b) && (b || a) && (!b && !a);\n",
    "\n",
    "// Printing the result\n",
    "System.out.println(compound);"
   ]
  },
  {
   "cell_type": "markdown",
   "metadata": {},
   "source": [
    "#### De Morgan's Law"
   ]
  },
  {
   "cell_type": "code",
   "execution_count": 38,
   "metadata": {},
   "outputs": [
    {
     "name": "stdout",
     "output_type": "stream",
     "text": [
      "false false false\n"
     ]
    }
   ],
   "source": [
    "boolean a = true;\n",
    "boolean b = false;\n",
    "boolean c = true;\n",
    "boolean d = false;\n",
    "\n",
    "// complicated boolean expression\n",
    "boolean res1 = !((!(a && b)) || (!(a || b)));\n",
    "\n",
    "// simplified using De Morgan's Law once\n",
    "boolean res2 = !((!a || !b) || (!a && !b));\n",
    "\n",
    "//simplified using De Morgan's Law twice\n",
    "boolean res3 = !(!a || !b) && !(!a && !b);\n",
    "\n",
    "// all results are the same\n",
    "System.out.println(res1 + \" \" + res2 + \" \" + res3);"
   ]
  },
  {
   "cell_type": "markdown",
   "metadata": {},
   "source": [
    "### Unit 4 Loops"
   ]
  },
  {
   "cell_type": "markdown",
   "metadata": {},
   "source": [
    "#### For Loop & Enhanced For Loop"
   ]
  },
  {
   "cell_type": "code",
   "execution_count": null,
   "metadata": {},
   "outputs": [],
   "source": [
    "// looping through even numbers\n",
    "for (int i = 0; i<10; i+=2) {\n",
    "    System.out.println(i);\n",
    "  }\n",
    "  \n",
    "  int[] arr = {1, 2, 3, 7, 8};\n",
    "  \n",
    "  // looping through array with conventional for lopo\n",
    "  for (int i = 0; i<arr.length; i++) {\n",
    "    System.out.println(arr[i]);\n",
    "  }\n",
    "  \n",
    "  // looping through array with enhanced for loop\n",
    "  for (int i : arr) {\n",
    "    System.out.println(i);\n",
    "  }"
   ]
  },
  {
   "cell_type": "markdown",
   "metadata": {},
   "source": [
    "#### While Loop & Do While Loop"
   ]
  },
  {
   "cell_type": "code",
   "execution_count": null,
   "metadata": {},
   "outputs": [],
   "source": [
    "int i = 0;\n",
    "boolean falseBool = false;\n",
    "\n",
    "// printing even numbers with while loop\n",
    "while (i < 10) {\n",
    "  System.out.println(i);\n",
    "  i += 2;\n",
    "}\n",
    "\n",
    "// if condition is false while loop does not run at all\n",
    "while (falseBool) {\n",
    "  System.out.println(\"inside while loop\");\n",
    "}\n",
    "\n",
    "// if condition is false in do while, the loop runs once\n",
    "do {\n",
    "  System.out.println(\"inside do-while loop\");\n",
    "} while (falseBool);"
   ]
  },
  {
   "cell_type": "markdown",
   "metadata": {},
   "source": [
    "#### Nested Loops"
   ]
  },
  {
   "cell_type": "code",
   "execution_count": 39,
   "metadata": {},
   "outputs": [
    {
     "name": "stdout",
     "output_type": "stream",
     "text": [
      "1 2 3 \n",
      "4 5 6 \n",
      "7 8 9 \n"
     ]
    }
   ],
   "source": [
    "int[][] arr = {\n",
    "    {1, 2, 3},\n",
    "    {4, 5, 6},\n",
    "    {7, 8, 9}\n",
    "  };\n",
    "  \n",
    "  // using nested for loops for 2D array\n",
    "  for (int i = 0; i<arr.length; i++) {\n",
    "    for (int j = 0; j<arr[i].length; j++) {\n",
    "      System.out.print(arr[i][j] + \" \");\n",
    "    }\n",
    "    System.out.println();\n",
    "  }"
   ]
  },
  {
   "cell_type": "markdown",
   "metadata": {},
   "source": [
    "### Unit 5 Classes (Own Lesson)"
   ]
  },
  {
   "cell_type": "markdown",
   "metadata": {},
   "source": [
    "#### Static Methods & Class Methods"
   ]
  },
  {
   "cell_type": "markdown",
   "metadata": {},
   "source": [
    "#### Creating a Class"
   ]
  },
  {
   "cell_type": "code",
   "execution_count": null,
   "metadata": {},
   "outputs": [],
   "source": [
    "class SomeClass{\n",
    "    \n",
    "}"
   ]
  },
  {
   "cell_type": "markdown",
   "metadata": {},
   "source": [
    "#### Main Method & Tester Methods"
   ]
  },
  {
   "cell_type": "code",
   "execution_count": 41,
   "metadata": {},
   "outputs": [
    {
     "name": "stdout",
     "output_type": "stream",
     "text": [
      "cool main method\n"
     ]
    }
   ],
   "source": [
    "class SomeClass {\n",
    "    // main method (definition for main method, more on individual parts later)\n",
    "    public static void main(String[] args){\n",
    "        System.out.println(\"cool main method\");\n",
    "    }\n",
    "}\n",
    "\n",
    "SomeClass.main(null);"
   ]
  },
  {
   "cell_type": "markdown",
   "metadata": {},
   "source": [
    "#### this Keyword\n",
    "The \"this\" keyword allows you to access properties of the class. See constructor example to see use of this keyword."
   ]
  },
  {
   "cell_type": "markdown",
   "metadata": {},
   "source": [
    "#### Constructors"
   ]
  },
  {
   "cell_type": "code",
   "execution_count": 60,
   "metadata": {},
   "outputs": [
    {
     "name": "stdout",
     "output_type": "stream",
     "text": [
      "123\n",
      "abc\n"
     ]
    }
   ],
   "source": [
    "// creating a class (camel casing w/ first letter capitalized)\n",
    "class SomeClass {\n",
    "    int someInt;\n",
    "    String someString;\n",
    "\n",
    "    // Constructor\n",
    "    public SomeClass(int someInt, String someString){ // constructor passes in outside parameters if we want to initialize certain fields\n",
    "        // this references objects own fields to differentiate (more on that later)\n",
    "        this.someInt = someInt;\n",
    "        this.someString = someString;\n",
    "    }\n",
    "\n",
    "    public static void main(String[] args){\n",
    "        SomeClass obj = new SomeClass(123, \"abc\");\n",
    "    \n",
    "        System.out.println(obj.someInt);\n",
    "        System.out.println(obj.someString);\n",
    "    }\n",
    "}\n",
    "\n",
    "SomeClass.main(null);"
   ]
  },
  {
   "cell_type": "markdown",
   "metadata": {},
   "source": [
    "#### Mutator Methods & Setter Methods\n",
    "These methods are used to get properties of an object from the outside the class definition. They are almost always necessary for private variables within classes.\n",
    "\n",
    "Getters can be applied on only the properties which should be accessed outside the class. They always have a return type of whatever data field is being retrieved. \n",
    "\n",
    "Setters are used to only set properties which are set outside the class. They are always void methods as their only purpose is to set variables.\n"
   ]
  },
  {
   "cell_type": "code",
   "execution_count": 62,
   "metadata": {},
   "outputs": [
    {
     "name": "stdout",
     "output_type": "stream",
     "text": [
      "123\n"
     ]
    }
   ],
   "source": [
    "class SomeClass {\n",
    "    private int someInt;\n",
    "    private String someString;\n",
    "\n",
    "    public SomeClass(int someInt, String someString){ \n",
    "        this.someInt = someInt;\n",
    "        this.someString = someString;\n",
    "    }\n",
    "\n",
    "    // Getter method\n",
    "    public int getSomeInt(){\n",
    "        return this.someInt;\n",
    "    }\n",
    "\n",
    "    public static void main(String[] args){\n",
    "      SomeClass obj = new SomeClass(123, \"abc\");\n",
    "\n",
    "      //Using Getter Method\n",
    "      System.out.println(obj.getSomeInt());\n",
    "    }\n",
    "}\n",
    "\n",
    "SomeClass.main(null);"
   ]
  },
  {
   "cell_type": "code",
   "execution_count": 64,
   "metadata": {},
   "outputs": [
    {
     "name": "stdout",
     "output_type": "stream",
     "text": [
      "111\n"
     ]
    }
   ],
   "source": [
    "class SomeClass {\n",
    "  private int someInt;\n",
    "  private String someString;\n",
    "\n",
    "  public SomeClass(int someInt, String someString){ \n",
    "      this.someInt = someInt;\n",
    "      this.someString = someString;\n",
    "  }\n",
    "\n",
    "  public int getSomeInt(){\n",
    "      return this.someInt;\n",
    "  }\n",
    "\n",
    "  // Setter\n",
    "  public void setSomeInt(int newInt){\n",
    "       this.someInt = newInt;\n",
    "  }\n",
    "\n",
    "  public static void main(String[] args){\n",
    "      SomeClass obj = new SomeClass(123, \"abc\");\n",
    "\n",
    "      // Using setter method\n",
    "      obj.setSomeInt(111);\n",
    "      System.out.println(obj.getSomeInt());\n",
    "  }\n",
    "}\n",
    "\n",
    "SomeClass.main(null);"
   ]
  },
  {
   "cell_type": "markdown",
   "metadata": {},
   "source": [
    "### Unit 6 Arrays\n",
    "What is an Array?\n",
    "Element -> 1 value in an array\n",
    "Index -> the position of the value in the array\n",
    "Declaring an array int[] array = new int[10];\n",
    "Bound errors -> accessing an element that does not exist\n",
    "Uninitialized and Unfilled arrays, assigning an array variable but not the whole array\n",
    "Traversing array, can use while but mainly for loop\n",
    "enhanced for loop .. for (int element:values)"
   ]
  },
  {
   "cell_type": "code",
   "execution_count": null,
   "metadata": {},
   "outputs": [],
   "source": [
    "public class ArrayMethods {\n",
    "    private static int[] values = {1,2,3,4,5}; // Array\n",
    "\n",
    "    public static void swap(){\n",
    "        System.out.println(\"0th Index = \" + values[0]);\n",
    "        System.out.println(\"4th Index = \" + values[4]);\n",
    "        int a = values[0];\n",
    "        int b = values[4];\n",
    "        values[0] = b;\n",
    "        values[4] = a;\n",
    "        System.out.println(\"0th Index = \" + values[0]);\n",
    "        System.out.println(\"4th Index = \" + values[4]);\n",
    "    }\n",
    "\n",
    "\n",
    "    public static void replaceZero(){\n",
    "        for(int i = 0; i < values.length; i++){\n",
    "            if(values[i] % 2 == 0){\n",
    "                values[i] = 0;\n",
    "            }\n",
    "        }\n",
    "        for(int i : values){\n",
    "            System.out.print(i);\n",
    "        }\n",
    "    }\n",
    "}\n",
    "\n",
    "ArrayMethods.swap();\n",
    "ArrayMethods.replaceZero();"
   ]
  }
 ],
 "metadata": {
  "kernelspec": {
   "display_name": "Java",
   "language": "java",
   "name": "java"
  },
  "language_info": {
   "codemirror_mode": "java",
   "file_extension": ".jshell",
   "mimetype": "text/x-java-source",
   "name": "java",
   "pygments_lexer": "java",
   "version": "18.0.1.1+2-6"
  },
  "orig_nbformat": 4
 },
 "nbformat": 4,
 "nbformat_minor": 2
}
