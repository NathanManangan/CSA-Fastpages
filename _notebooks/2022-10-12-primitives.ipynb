{
 "cells": [
  {
   "cell_type": "markdown",
   "metadata": {},
   "source": [
    "# \"Primitives Notebook\"\n",
    "> \"Captures Key Learnings Primitives Lesson\"\n",
    "\n",
    "- toc: true\n",
    "- branch: master\n",
    "- badges: true\n",
    "- comments: true\n",
    "- categories: [CodeCodeCode]"
   ]
  },
  {
   "cell_type": "markdown",
   "metadata": {},
   "source": [
    "# Primitives\n",
    "- String Literals vs Literals, Exceptions, \n",
    "- OOP, compiles into javac first and into byte than runs on JVM\n",
    "- Garbage Collection, Multithreading - multiple programs at once\n",
    "\n",
    "- primitives - predefined, cannot call methods: Boolean, Int(2-3bits), Double(64bits), Char, Float, Long\n",
    "\n",
    "- Naming conventions\n",
    "- lowercase at start, words after is capital ( toTheMoon )\n",
    "\n",
    "- Casting\n",
    "- Manual casting vs automatic\n",
    "- Narrowing bigger -> smaller, Widening smaller -> bigger\n",
    "\n",
    "- Operator precedents\n",
    "- Left -> Right, PEMDAS\n",
    "\n",
    "- int x= 23;\n",
    "- x *= 2;\n",
    "- x %= 10;\n",
    "- System.out.println(x);\n",
    "\n",
    "- Scanners\n",
    "- import java.util.Scaner;\n",
    "- Scanner scan = Scanner(System.in);"
   ]
  },
  {
   "cell_type": "markdown",
   "metadata": {},
   "source": [
    "# Exercise/Game\n",
    "Order : 1 -> 3 -> 2 -> 4 -> 6 -> 5"
   ]
  },
  {
   "cell_type": "markdown",
   "metadata": {},
   "source": [
    "# Homework\n",
    "- 2006 FRQ from College Board - Question 1, 2a and 3a"
   ]
  },
  {
   "cell_type": "markdown",
   "metadata": {},
   "source": [
    "### FRQ 1a-1c"
   ]
  },
  {
   "cell_type": "code",
   "execution_count": null,
   "metadata": {},
   "outputs": [],
   "source": [
    "public class Appointment\n",
    "{\n",
    " // returns the time interval of this Appointment\n",
    " public TimeInterval getTime()\n",
    " { /* implementation not shown */ }\n",
    " // returns true if the time interval of this Appointment\n",
    " // overlaps with the time interval of other;\n",
    " // otherwise, returns false\n",
    " public boolean conflictsWith(Appointment other){\n",
    "    if(getTime().overlapsWith(other.getTime())){\n",
    "        return true\n",
    "    }\n",
    "    else{\n",
    "        return false\n",
    "    }\n",
    " }\n",
    " // There may be fields, constructors, and methods that are not shown.\n",
    "} "
   ]
  },
  {
   "cell_type": "code",
   "execution_count": null,
   "metadata": {},
   "outputs": [],
   "source": [
    "public class DailySchedule\n",
    "{\n",
    " // contains Appointment objects, no two Appointments overlap\n",
    " private ArrayList apptList;\n",
    " public DailySchedule()\n",
    " { apptList = new ArrayList(); }\n",
    " // removes all appointments that overlap the given Appointment\n",
    " // postcondition: all appointments that have a time conflict with\n",
    " // appt have been removed from this DailySchedule\n",
    " public void clearConflicts(Appointment appt){\n",
    "    int i = 0;\n",
    "    while (i < apptList.size()){\n",
    "        if (appt.conflictsWith((Appointment)(apptList.get(i)))){\n",
    "            apptList.remove(i);\n",
    "        }\n",
    "        else{\n",
    "            i++;\n",
    "        }\n",
    "    }\n",
    " } \n",
    "/* to be implemented in part (b) */ }\n",
    " // if emergency is true, clears any overlapping appointments and adds\n",
    " // appt to this DailySchedule; otherwise, if there are no conflicting\n",
    " // appointments, adds appt to this DailySchedule;\n",
    " // returns true if the appointment was added;\n",
    " // otherwise, returns false\n",
    " public boolean addAppt(Appointment appt, boolean emergency){\n",
    "    if (emergency){\n",
    "        clearConflicts(appt);\n",
    "    }\n",
    "    else{\n",
    "        for (int i = 0; i < apptList.size(); i++){\n",
    "            if (appt.conflictsWith((Appointment)apptList.get(i))){\n",
    "                return false;\n",
    "            }\n",
    "        }\n",
    "    }\n",
    "    return apptList.add(appt); \n",
    "}"
   ]
  },
  {
   "cell_type": "markdown",
   "metadata": {},
   "source": [
    "### FRQ 2a"
   ]
  },
  {
   "cell_type": "code",
   "execution_count": null,
   "metadata": {},
   "outputs": [],
   "source": [
    "public double purchasePrice()\n",
    "{\n",
    " return (1 + taxRate) * getListPrice();\n",
    "} "
   ]
  },
  {
   "cell_type": "markdown",
   "metadata": {},
   "source": [
    "### FRQ 3a"
   ]
  },
  {
   "cell_type": "code",
   "execution_count": null,
   "metadata": {},
   "outputs": [],
   "source": [
    "public int compareCustomer(Customer other){\n",
    " int nameCompare = getName().compareTo(other.getName());\n",
    " if (nameCompare != 0){\n",
    "    return nameCompare;\n",
    " }\n",
    " else{\n",
    "    return getID() - other.getID();\n",
    " }\n",
    "}"
   ]
  }
 ],
 "metadata": {
  "kernelspec": {
   "display_name": "Java",
   "language": "java",
   "name": "java"
  },
  "language_info": {
   "name": "java"
  },
  "orig_nbformat": 4
 },
 "nbformat": 4,
 "nbformat_minor": 2
}
