{
 "cells": [
  {
   "cell_type": "markdown",
   "metadata": {},
   "source": [
    "# \"FRQ Notebook\"\n",
    "> \"FRQ answers and Reflections\"\n",
    "\n",
    "- toc: true\n",
    "- branch: master\n",
    "- badges: true\n",
    "- comments: true\n",
    "- categories: [CodeCodeCode]"
   ]
  },
  {
   "cell_type": "markdown",
   "metadata": {},
   "source": [
    "# FRQ\n",
    "This question involves reasoning about a simulation of a frog hopping in a straight line. The frog attempts\n",
    "to hop to a goal within a specified number of hops. The simulation is encapsulated in the following\n",
    "FrogSimulation class. You will write two of the methods in this class."
   ]
  },
  {
   "cell_type": "code",
   "execution_count": null,
   "metadata": {},
   "outputs": [],
   "source": [
    "public class FrogSimulation {\n",
    "/** Distance, in inches, from the starting position to the goal. */\n",
    "    private int goalDistance;\n",
    "/** Maximum number of hops allowed to reach the goal. */\n",
    "    private int maxHops;\n",
    "/** Constructs a FrogSimulation where dist is the distance, in inches, from the starting\n",
    "* position to the goal, and numHops is the maximum number of hops allowed to reach the goal.\n",
    "* Precondition: dist > 0; numHops > 0\n",
    "*/\n",
    "    public FrogSimulation(int dist, int numHops){\n",
    "        goalDistance = dist;\n",
    "        maxHops = numHops;\n",
    "    }\n",
    "/** Returns an integer representing the distance, in inches, to be moved when the frog hops.\n",
    " */\n",
    "    private int hopDistance(){\n",
    "         /* implementation not shown */ \n",
    "    }\n",
    "/** Simulates a frog attempting to reach the goal as described in part (a).\n",
    "* Returns true if the frog successfully reached or passed the goal during the simulation;\n",
    "* false otherwise.\n",
    "*/\n",
    "    public boolean simulate(){\n",
    "        /* to be implemented in part (a) */\n",
    "    }\n",
    " /** Runs num simulations and returns the proportion of simulations in which the frog\n",
    "* successfully reached or passed the goal.\n",
    "* Precondition: num > 0\n",
    "*/\n",
    "    public double runSimulations(int num){\n",
    "         /* to be implemented in part (b) */ \n",
    "    } -->\n",
    "}"
   ]
  },
  {
   "cell_type": "markdown",
   "metadata": {},
   "source": [
    "Complete method simulate below. You must use hopDistance appropriately to receive full credit.\n",
    "\n",
    "/** Simulates a frog attempting to reach the goal as described in part (a).\n",
    "* Returns true if the frog successfully reached or passed the goal during the simulation;\n",
    "* false otherwise.\n",
    "*/\n",
    "\n",
    " public boolean simulate() "
   ]
  },
  {
   "cell_type": "code",
   "execution_count": null,
   "metadata": {},
   "outputs": [],
   "source": [
    "public boolean simulate(){\n",
    "    int h = 0;\n",
    "    for(int i=0; i <= numHops; i++){\n",
    "        int h += hopDistance();\n",
    "        if(h >= goalDistance){\n",
    "            return true;\n",
    "        }\n",
    "        else if(h < 0){\n",
    "            return false;\n",
    "        }\n",
    "    }\n",
    "    if(h < goalDistance){\n",
    "        return false;\n",
    "    }\n",
    "}"
   ]
  },
  {
   "cell_type": "markdown",
   "metadata": {},
   "source": [
    "Write the runSimulations method, which performs a given number of simulations and returns the\n",
    "proportion of simulations in which the frog successfully reached or passed the goal. For example, if the\n",
    "parameter passed to runSimulations is 400, and 100 of the 400 simulate method calls returned\n",
    "true, then the runSimulations method should return 0.25.\n",
    "Complete method runSimulations below. Assume that simulate works as specified, regardless\n",
    "of what you wrote in part (a). You must use simulate appropriately to receive full credit.\n",
    "     /** Runs num simulations and returns the proportion of simulations in which the frog\n",
    "        * successfully reached or passed the goal.\n",
    "        * Precondition: num > 0\n",
    "    */\n",
    " public double runSimulations(int num) "
   ]
  },
  {
   "cell_type": "code",
   "execution_count": null,
   "metadata": {},
   "outputs": [],
   "source": [
    "public double runSimulations(int num){\n",
    "    double value = 0;\n",
    "    for(int i=0; i > num; i++){\n",
    "        boolean number = simulate();\n",
    "        if(number == true){\n",
    "            value += 1;\n",
    "        }\n",
    "    }\n",
    "    value = value/num;\n",
    "    return value\n",
    "}"
   ]
  },
  {
   "cell_type": "markdown",
   "metadata": {},
   "source": []
  }
 ],
 "metadata": {
  "kernelspec": {
   "display_name": "Java",
   "language": "java",
   "name": "java"
  },
  "language_info": {
   "name": "java",
   "version": "3.10.6"
  },
  "orig_nbformat": 4,
  "vscode": {
   "interpreter": {
    "hash": "b0fa6594d8f4cbf19f97940f81e996739fb7646882a419484c72d19e05852a7e"
   }
  }
 },
 "nbformat": 4,
 "nbformat_minor": 2
}
