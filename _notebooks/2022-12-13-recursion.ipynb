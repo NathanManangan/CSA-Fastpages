{
 "cells": [
  {
   "cell_type": "markdown",
   "metadata": {},
   "source": [
    "# \"Inheritance Notebook\"\n",
    "> \"Captures Inheritance lesson\"\n",
    "\n",
    "- toc: true\n",
    "- branch: master\n",
    "- badges: true\n",
    "- comments: true\n",
    "- categories: [KeyLearnings]"
   ]
  },
  {
   "cell_type": "markdown",
   "metadata": {},
   "source": [
    "# Notes\n",
    "\n",
    "- Something that calls upon itself, that contains at least one base case to halt\n",
    "- Can call upon a method within a method to do stuff before that method call.\n",
    "- Binary Search: picking a sorted list, splitting into two and then finding the bounds\n",
    "- Merge Sort, Splits into half, split split split, then it keeps going with comparisons by comparing each number left n right"
   ]
  }
 ],
 "metadata": {
  "kernelspec": {
   "display_name": "Java",
   "language": "java",
   "name": "java"
  },
  "language_info": {
   "name": "java"
  },
  "orig_nbformat": 4
 },
 "nbformat": 4,
 "nbformat_minor": 2
}
