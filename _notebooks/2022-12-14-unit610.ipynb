{
 "cells": [
  {
   "cell_type": "markdown",
   "metadata": {},
   "source": [
    "# College Board Unit Review\n",
    "> College Board Unit Review\n",
    "\n",
    "- title: College Board Unit Review\n",
    "- badges: true\n",
    "- toc: true\n",
    "- comments: true\n",
    "- categories: [KeyLearnings]"
   ]
  },
  {
   "cell_type": "markdown",
   "metadata": {},
   "source": [
    "# Table of Scores\n",
    "\n",
    "| Unit | Score | Grading |\n",
    "| --- | --- | --- |\n",
    "| Unit 6 | 0.9/1 | [Link](https://docs.google.com/spreadsheets/d/1Hlh7VScUFSnHA3lovNoh1ao-QZu3vVuH_uCSw0tOoFU/edit#gid=0) |\n",
    "| Unit 7 | 0.8/1 (late) | [Link](https://docs.google.com/spreadsheets/d/1fe9gmbCkbB4ayEeo3xMYLjx1U96LZ4JjwGOvEHX2O0M/edit#gid=0) |\n",
    "| Unit 8 | 0.95/1 | [Link](https://docs.google.com/document/d/1gDqtD2YRTpdRFzRUXRocwjup2W9uoj1Ib2kUSLcE7gs/edit) |\n",
    "| Unit 9 | 1/1 | [Link](https://docs.google.com/spreadsheets/d/1aPcCRONduEfKhgB69PHXTSY877S1h0V8AomY5OW_THs/edit#gid=0) | \n",
    "| Unit 10 |  | OUR OWN LESSON - NO SCORE? |\n",
    "| TOTAL SCORE | 3.65/4| 2 Unknown ones |"
   ]
  }
 ],
 "metadata": {
  "kernelspec": {
   "display_name": "Java",
   "language": "java",
   "name": "java"
  },
  "language_info": {
   "name": "java"
  },
  "orig_nbformat": 4
 },
 "nbformat": 4,
 "nbformat_minor": 2
}
