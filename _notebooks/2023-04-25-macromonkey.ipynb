{
 "cells": [
  {
   "cell_type": "markdown",
   "metadata": {},
   "source": [
    "# MacroMonkey Lesson\n",
    "> Lesson\n",
    "\n",
    "- title: MacroMonkey Lesson\n",
    "- badges: true\n",
    "- toc: true\n",
    "- comments: true\n",
    "- categories: [KeyLearnings]"
   ]
  },
  {
   "cell_type": "markdown",
   "metadata": {},
   "source": [
    "# Hack: Create method that sets all elements in array to n"
   ]
  },
  {
   "cell_type": "code",
   "execution_count": 6,
   "metadata": {
    "vscode": {
     "languageId": "java"
    }
   },
   "outputs": [
    {
     "name": "stdout",
     "output_type": "stream",
     "text": [
      "10,10,10,10,10,10,10,10,10,10"
     ]
    }
   ],
   "source": [
    "void setArray(int[] arr, int n) {\n",
    "    // your code here\n",
    "    for (int i = 0; i < arr.length; i++)\n",
    "    {\n",
    "        arr[i] = n;\n",
    "    }\n",
    "}\n",
    "\n",
    "\n",
    "int[] array = new int[10];\n",
    "setArray(array, 10);\n",
    "\n",
    "for (int i = 0; i<array.length; i++) {\n",
    "    System.out.print(array[i]);\n",
    "    if(i != 9){\n",
    "        System.out.print(\",\");\n",
    "    }\n",
    "}"
   ]
  },
  {
   "cell_type": "markdown",
   "metadata": {},
   "source": [
    "# Hack: Write an array to find the average of an array"
   ]
  },
  {
   "cell_type": "code",
   "execution_count": 20,
   "metadata": {
    "vscode": {
     "languageId": "java"
    }
   },
   "outputs": [
    {
     "name": "stdout",
     "output_type": "stream",
     "text": [
      "Average of array = 5\n"
     ]
    }
   ],
   "source": [
    "public static int average(int[] array) {\n",
    "    // put your code here\n",
    "    int sum = 0;\n",
    "    int avg = 0;\n",
    "    for (int n: array){\n",
    "        sum += n;\n",
    "    }\n",
    "    avg = sum / array.length;\n",
    "    return avg;\n",
    "}\n",
    "\n",
    "//tester array\n",
    "int[] test = {3, 5, 7, 2, 10};\n",
    "\n",
    "\n",
    "//returns 10\n",
    "System.out.println(\"Average of array = \" + average(test));"
   ]
  },
  {
   "cell_type": "markdown",
   "metadata": {},
   "source": [
    "# Hack: Find the average number of a diagonal in a 2d array"
   ]
  },
  {
   "cell_type": "code",
   "execution_count": 22,
   "metadata": {
    "vscode": {
     "languageId": "java"
    }
   },
   "outputs": [
    {
     "name": "stdout",
     "output_type": "stream",
     "text": [
      "Average of diagonal = 15\n"
     ]
    }
   ],
   "source": [
    "public static int averageDiagonal (int[][] array2D) {\n",
    "    // your code here\n",
    "    int sum = 0;\n",
    "    for (int r = 0; r < array2D.length; r++){\n",
    "        for (int c = 0; c < array2D[r].length; c++){\n",
    "            if (r == c){\n",
    "                sum += array2D[r][c];\n",
    "            }\n",
    "        }\n",
    "    }\n",
    "    return sum / array2D.length;\n",
    "}\n",
    "\n",
    "int[][] arr = {\n",
    "    {1,2,3,4,5,6},\n",
    "    {7,8,9,10,11,12},\n",
    "    {13,14,15,16,17,18},\n",
    "    {19,20,21,22,23,24},\n",
    "    {25,26,27,28,29,30}\n",
    "};\n",
    "\n",
    "System.out.println(\"Average of diagonal = \"+averageDiagonal(arr));"
   ]
  }
 ],
 "metadata": {
  "kernelspec": {
   "display_name": "Java",
   "language": "java",
   "name": "java"
  },
  "language_info": {
   "codemirror_mode": "java",
   "file_extension": ".jshell",
   "mimetype": "text/x-java-source",
   "name": "Java",
   "pygments_lexer": "java",
   "version": "18.0.2.1+1-1"
  },
  "orig_nbformat": 4
 },
 "nbformat": 4,
 "nbformat_minor": 2
}
