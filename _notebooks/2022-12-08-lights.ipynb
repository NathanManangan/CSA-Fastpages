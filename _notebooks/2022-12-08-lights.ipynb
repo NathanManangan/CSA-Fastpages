{
 "cells": [
  {
   "cell_type": "markdown",
   "metadata": {},
   "source": [
    "# \"FRQ 4 Notebook\"\n",
    "> \"Captures FRQ4\"\n",
    "\n",
    "- toc: true\n",
    "- branch: master\n",
    "- badges: true\n",
    "- comments: true\n",
    "- categories: [CodeCodeCode]"
   ]
  },
  {
   "cell_type": "markdown",
   "metadata": {},
   "source": [
    "## FRQ 4 - Lightboard\n"
   ]
  },
  {
   "cell_type": "code",
   "execution_count": null,
   "metadata": {},
   "outputs": [],
   "source": [
    "public class LightBoard\n",
    "{\n",
    " /** The lights on the board, where true represents on and false represents off.\n",
    " */\n",
    " private boolean[][] lights;\n",
    " /** Constructs a LightBoard object having numRows rows and numCols columns.\n",
    " * Precondition: numRows > 0, numCols > 0\n",
    " * Postcondition: each light has a 40% probability of being set to on.\n",
    " */\n",
    " public LightBoard(int numRows, int numCols)\n",
    " { /* to be implemented in part (a) */ }\n",
    " /** Evaluates a light in row index row and column index col and returns a status\n",
    " * as described in part (b).\n",
    " * Precondition: row and col are valid indexes in lights.\n",
    " */\n",
    " public boolean evaluateLight(int row, int col)\n",
    " { /* to be implemented in part (b) */ }\n",
    " // There may be additional instance variables, constructors, and methods not shown.\n",
    "} "
   ]
  },
  {
   "cell_type": "markdown",
   "metadata": {},
   "source": [
    "# Part A\n",
    "Write the constructor for the LightBoard class, which initializes lights so that each light is set to\n",
    "on with a 40% probability. The notation lights[r][c] represents the array element at row r and\n",
    "column c. \n",
    "\n",
    "Complete the LightBoard constructor below."
   ]
  },
  {
   "cell_type": "code",
   "execution_count": null,
   "metadata": {},
   "outputs": [],
   "source": [
    " /** Constructs a LightBoard object having numRows rows and numCols columns.\n",
    "* Precondition: numRows > 0, numCols > 0\n",
    "* Postcondition: each light has a 40% probability of being set to on.\n",
    "*/\n",
    "import java.lang.Math;\n",
    "\n",
    "public LightBoard(int numRows, int numCols) {\n",
    "    lights = new boolean lights[numRows][numCols];\n",
    "    for(r=0; r < numRows; r++){\n",
    "        for(c=0; c < numCols; c++){\n",
    "            int probability = 100 * Math.random();\n",
    "            if(probability <= 40){\n",
    "                lights[r][c] = true;\n",
    "            }\n",
    "            else{\n",
    "                lights[r][c] = false;\n",
    "            }\n",
    "        }\n",
    "    }\n",
    "}"
   ]
  },
  {
   "cell_type": "markdown",
   "metadata": {},
   "source": [
    "## Part B\n",
    "Write the method evaluateLight, which computes and returns the status of a light at a given row and\n",
    "column based on the following rules.\n",
    "1. If the light is on, return false if the number of lights in its column that are on is even, including\n",
    "the current light.\n",
    "2. If the light is off, return true if the number of lights in its column that are on is divisible by three.\n",
    "3. Otherwise, return the light’s current status.\n",
    "For example, suppose that LightBoard sim = new LightBoard(7, 5) creates a light board\n",
    "with the initial state shown below, where true represents a light that is on and false represents a light\n",
    "that is off. Lights that are off are shaded.\n",
    "\n",
    "lights\n",
    "|---| 0 | 1 | 2 | 3 | 4 |\n",
    "|---|---|---|---|---|---|\n",
    "|0| true | true | false | true | true |\n",
    "|1| true | false | false | true | false |\n",
    "|2| true | false | false | true | true |\n",
    "|3| true | false | false | false | true |\n",
    "|4| true | false | false | false | true |\n",
    "|5| true | true | false | true | true |\n",
    "|6| false | false | false | false | false |\n",
    "\n",
    "Sample calls to evaluateLight are shown below.\n",
    "| Call to evaluateLight | Value Returned | Explanation |\n",
    "|-----------------------|----------------|-------------|\n",
    "|sim.evaluateLight(0, 3);| false | The light is on, and the number of lights that are on in its column is even.|\n",
    "|sim.evaluateLight(6, 0);| true | The light is off, and the number of lights that are on in its column is divisible by 3.|\n",
    "|sim.evaluateLight(4, 1);| false |Returns the light’s current status.|\n",
    "|sim.evaluateLight(5, 4);| true | Returns the light’s current status. |\n",
    "\n",
    "-------------------------------------\n",
    "\n",
    "Class information for this question\n",
    "\n",
    "- public class LightBoard\n",
    "- private boolean[][] lights\n",
    "- public LightBoard(int numRows, int numCols)\n",
    "- public boolean evaluateLight(int row, int col) \n",
    "\n",
    "\n",
    "Complete the evaluateLight method below."
   ]
  },
  {
   "cell_type": "code",
   "execution_count": null,
   "metadata": {},
   "outputs": [],
   "source": [
    "/** Evaluates a light in row index row and column index col and returns a status\n",
    "* as described in part (b).\n",
    "* Precondition: row and col are valid indexes in lights.\n",
    "*/\n",
    "public boolean evaluateLight(int row, int col){\n",
    "    iif (lights[row][col] == true) {\n",
    "        int count = 0;\n",
    "        for (int r = 0; r < lights.length; r++){\n",
    "           if (lights[r][col] == true){\n",
    "               count++;\n",
    "           }\n",
    "        }\n",
    "        if (count % 2  == 1){\n",
    "           return true;\n",
    "        }\n",
    "        else{\n",
    "           return false;\n",
    "        }\n",
    "\n",
    "    } \n",
    "    else if (lights[row][col] == false) {\n",
    "        int count = 0;\n",
    "        for (int r = 0; r < lights.length; r++){\n",
    "            if (lights[r][col] == true){\n",
    "                count++;\n",
    "            }\n",
    "        }\n",
    "        if (count % 3 == 0) {\n",
    "            return true;\n",
    "        }\n",
    "        else {\n",
    "            return false;\n",
    "        }\n",
    "    }\n",
    "}"
   ]
  }
 ],
 "metadata": {
  "kernelspec": {
   "display_name": "Java",
   "language": "java",
   "name": "java"
  },
  "language_info": {
   "codemirror_mode": "java",
   "file_extension": ".jshell",
   "mimetype": "text/x-java-source",
   "name": "java",
   "pygments_lexer": "java",
   "version": "18.0.2.1+1-1"
  },
  "orig_nbformat": 4,
  "vscode": {
   "interpreter": {
    "hash": "b0fa6594d8f4cbf19f97940f81e996739fb7646882a419484c72d19e05852a7e"
   }
  }
 },
 "nbformat": 4,
 "nbformat_minor": 2
}
