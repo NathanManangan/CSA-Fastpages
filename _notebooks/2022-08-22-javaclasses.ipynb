{
 "cells": [
  {
   "cell_type": "markdown",
   "metadata": {},
   "source": [
    "# \"Java Primitives Notebook\"\n",
    "> \"Captures Key Learnings of Primitives\"\n",
    "\n",
    "- toc: true\n",
    "- branch: master\n",
    "- badges: true\n",
    "- comments: true\n",
    "- categories: [KeyLearnings]"
   ]
  },
  {
   "cell_type": "markdown",
   "metadata": {},
   "source": [
    "- Define in a Class the following data types\n",
    "- Demonstrate use of Primitives: int, double, boolean, string\n",
    "- Demonstrate use of Wrapper Class object: String\n",
    "- Describe in comments how each data type choice is appropriate to application\n",
    "- Perform arithmetic expressions and assignment in a program code Code.org Lesson\n",
    "- Determine what is result is in a variable as a result of an data type and expression (ie integer vs double)\n",
    "- Perform an arithmetic expressions that uses casting, add comments that show how it produces desired result. Learn more by watching this College Board video\n",
    "- Perform compound assignment operator (ie +=), add comments to describe the result of operator\n",
    "\n",
    "Code below, Collaborated with Don Tran"
   ]
  },
  {
   "cell_type": "code",
   "execution_count": 60,
   "metadata": {},
   "outputs": [
    {
     "name": "stdout",
     "output_type": "stream",
     "text": [
      "Enter a salary between 0-1,000,000\n",
      "123123.0\n",
      "Enter your pay raise\n",
      "123123.0\n",
      "Your final salary is: 246246.0, which is around a 100% raise from your original salary. You got a good pay raise!\n"
     ]
    }
   ],
   "source": [
    "import java.util.Scanner;\n",
    "\n",
    "public class Kitkatwrapper{\n",
    "    public static void main(String[] args) {\n",
    "        Scanner myObj = new Scanner(System.in);  // Create a Scanner object\n",
    "\n",
    "        System.out.println(\"Enter a salary between 0-1,000,000\"); // Number 1, gets salary\n",
    "        double salary = myObj.nextDouble();  // Read user input\n",
    "        System.out.println(salary);\n",
    "        double oldSalary = salary; // records oldsalary for percent calculation later\n",
    "\n",
    "        System.out.println(\"Enter your pay raise\"); // Number 2, gets raise to salary\n",
    "        double raise = myObj.nextDouble();  // Read user input\n",
    "        System.out.println(raise);\n",
    "\n",
    "        salary += raise; // the inputted number of \"raise\" is added onto the original inputted \"salary\"\n",
    "\n",
    "        int percent = (int) (100*(salary / oldSalary)-100); // calculates percent raise\n",
    "\n",
    "        myObj.close(); // closing object, stops reading text inputs\n",
    "\n",
    "        boolean payraisequality; // defines boolean variable\n",
    "        String message; // defines message\n",
    "\n",
    "        if(percent > 5){\n",
    "            payraisequality = true;\n",
    "        }\n",
    "        else{\n",
    "            payraisequality = false;\n",
    "        }\n",
    "\n",
    "        if (payraisequality == true){\n",
    "            message = \"You got a good pay raise!\";\n",
    "        }\n",
    "        else{\n",
    "            message = \"You got a bad pay raise.\";\n",
    "        }\n",
    "\n",
    "        System.out.println(\"Your final salary is: \" + salary + \", which is around a \" + percent + \"% raise from your original salary. \" + message);  // Output user input\n",
    "    }\n",
    "}\n",
    "\n",
    "Kitkatwrapper.main(null);"
   ]
  }
 ],
 "metadata": {
  "kernelspec": {
   "display_name": "Java",
   "language": "java",
   "name": "java"
  },
  "language_info": {
   "codemirror_mode": "java",
   "file_extension": ".jshell",
   "mimetype": "text/x-java-source",
   "name": "java",
   "pygments_lexer": "java",
   "version": "18.0.2.1+1-1"
  },
  "orig_nbformat": 4
 },
 "nbformat": 4,
 "nbformat_minor": 2
}
