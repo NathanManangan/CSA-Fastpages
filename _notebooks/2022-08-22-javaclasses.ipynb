{
 "cells": [
  {
   "cell_type": "markdown",
   "metadata": {},
   "source": [
    "# \"Java Primitives Notebook\"\n",
    "> \"Completion of use of Primitives\"\n",
    "\n",
    "- toc: true\n",
    "- branch: master\n",
    "- badges: true\n",
    "- comments: true\n",
    "- categories: [CodeCodeCode]"
   ]
  },
  {
   "cell_type": "code",
   "execution_count": 6,
   "metadata": {
    "vscode": {
     "languageId": "java"
    }
   },
   "outputs": [
    {
     "name": "stdout",
     "output_type": "stream",
     "text": [
      "100\n",
      "111.11\n",
      "true\n",
      "banana\n",
      "Banana\n"
     ]
    }
   ],
   "source": [
    "public class kitkatwrapper{\n",
    "    int anInt = 100;\n",
    "    double aDouble = 111.11;\n",
    "    boolean aBoolean = true;\n",
    "    String aString = \"banana\";\n",
    "    String uhString = new String (\"Banana\");\n",
    "}\n",
    "\n",
    "System.out.println(anInt);\n",
    "System.out.println(aDouble);\n",
    "System.out.println(aBoolean);\n",
    "System.out.println(aString);\n",
    "System.out.println(uhString);"
   ]
  },
  {
   "cell_type": "code",
   "execution_count": null,
   "metadata": {
    "vscode": {
     "languageId": "java"
    }
   },
   "outputs": [],
   "source": []
  }
 ],
 "metadata": {
  "kernelspec": {
   "display_name": "Java",
   "language": "java",
   "name": "java"
  },
  "language_info": {
   "codemirror_mode": "java",
   "file_extension": ".jshell",
   "mimetype": "text/x-java-source",
   "name": "Java",
   "pygments_lexer": "java",
   "version": "18.0.2.1+1-1"
  },
  "orig_nbformat": 4
 },
 "nbformat": 4,
 "nbformat_minor": 2
}
