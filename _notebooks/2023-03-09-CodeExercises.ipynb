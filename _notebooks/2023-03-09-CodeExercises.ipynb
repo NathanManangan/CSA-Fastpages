{
 "cells": [
  {
   "cell_type": "markdown",
   "metadata": {},
   "source": [
    "# Small Code Exercises\n",
    "> 4-5 Exercises\n",
    "\n",
    "- title: Small Code Exercises\n",
    "- badges: true\n",
    "- toc: true\n",
    "- comments: true\n",
    "- categories: [KeyLearnings]"
   ]
  },
  {
   "cell_type": "markdown",
   "metadata": {},
   "source": [
    "# Small Code Exercises for Primitive Types\n",
    "\n",
    "## Integer"
   ]
  },
  {
   "cell_type": "code",
   "execution_count": 24,
   "metadata": {
    "vscode": {
     "languageId": "java"
    }
   },
   "outputs": [
    {
     "name": "stdout",
     "output_type": "stream",
     "text": [
      "98\n"
     ]
    }
   ],
   "source": [
    "import java.util.Random;\n",
    "public class Example {\n",
    "    public static void main(String[] args) {\n",
    "        \n",
    "        int a = (int)(Math.random() * 100);\n",
    "\n",
    "      System.out.println(a);\n",
    "    }\n",
    "}\n",
    "Example.main(null);"
   ]
  },
  {
   "cell_type": "markdown",
   "metadata": {},
   "source": [
    "## Double"
   ]
  },
  {
   "cell_type": "code",
   "execution_count": 26,
   "metadata": {
    "vscode": {
     "languageId": "java"
    }
   },
   "outputs": [
    {
     "name": "stdout",
     "output_type": "stream",
     "text": [
      "32.14245474233138\n",
      "32.14245474233138\n",
      "3\n",
      "2\n",
      ".\n",
      "1\n",
      "4\n"
     ]
    }
   ],
   "source": [
    "import java.util.Random;\n",
    "public class Example {\n",
    "    double a = 0.0;\n",
    "    public static void main(String[] args) {\n",
    "        double a = Math.random() * 100;\n",
    "        System.out.println(a); \n",
    "\n",
    "        String b = String.valueOf(a);\n",
    "        System.out.println(b);\n",
    "        for (int i = 0; i < 5; i++) {\n",
    "            if (b.substring(i,i+1) != \"1\") {\n",
    "            System.out.println(b.substring(i,i+1));\n",
    "            }\n",
    "        }\n",
    "    }\n",
    "}\n",
    "Example.main(null);"
   ]
  },
  {
   "cell_type": "markdown",
   "metadata": {},
   "source": [
    "## Boolean"
   ]
  },
  {
   "cell_type": "code",
   "execution_count": 35,
   "metadata": {
    "vscode": {
     "languageId": "java"
    }
   },
   "outputs": [
    {
     "name": "stdout",
     "output_type": "stream",
     "text": [
      "one true\n"
     ]
    }
   ],
   "source": [
    "public class Example {\n",
    "    public static void main(String[] args) {\n",
    "        boolean x = true;\n",
    "        boolean y = false;\n",
    "\n",
    "        if (x && y) {\n",
    "            System.out.println(\"both true\");\n",
    "        }\n",
    "        else if (x || y) {\n",
    "            System.out.println(\"one true\");\n",
    "        }\n",
    "        else {\n",
    "            System.out.println(\"none true\");\n",
    "        }\n",
    "    }\n",
    "}\n",
    "Example.main(null);"
   ]
  },
  {
   "cell_type": "markdown",
   "metadata": {},
   "source": [
    "## Char"
   ]
  },
  {
   "cell_type": "code",
   "execution_count": 34,
   "metadata": {
    "vscode": {
     "languageId": "java"
    }
   },
   "outputs": [
    {
     "name": "stdout",
     "output_type": "stream",
     "text": [
      "Element at index 0: A\n",
      "Element at index 1: B\n",
      "Element at index 2: C\n",
      "Element at index 3: D\n",
      "Element at index 4: E\n"
     ]
    }
   ],
   "source": [
    "public class Example {\n",
    "    public static void main(String[] args) {\n",
    "        char[] charArray = new char[5];\n",
    "        charArray[0] = 'A';\n",
    "        charArray[1] = 'B';\n",
    "        charArray[2] = 'C';\n",
    "        charArray[3] = 'D';\n",
    "        charArray[4] = 'E';\n",
    "        \n",
    "        for (int i = 0; i < 5; i++) {\n",
    "        System.out.println(\"Element at index \" + i + \": \" + charArray[i]);\n",
    "        }\n",
    "    }\n",
    "}\n",
    "\n",
    "Example.main(null);"
   ]
  },
  {
   "cell_type": "markdown",
   "metadata": {},
   "source": [
    "# Small Code Exercises for Primitive Types (Wrapper Classes)\n",
    "\n",
    "## Integer"
   ]
  },
  {
   "cell_type": "code",
   "execution_count": 33,
   "metadata": {
    "vscode": {
     "languageId": "java"
    }
   },
   "outputs": [
    {
     "name": "stdout",
     "output_type": "stream",
     "text": [
      "int values: 13 79 7\n",
      "13\n",
      "79\n",
      "7\n",
      "[13, 79, 7]\n"
     ]
    }
   ],
   "source": [
    "import java.util.Random;\n",
    "import java.util.ArrayList;\n",
    "public class Example {\n",
    "    public static void main(String[] args) {\n",
    "        \n",
    "        int a = (int)(Math.random() * 100);\n",
    "        int b = (int)(Math.random() * 100);\n",
    "        int c = (int)(Math.random() * 100);\n",
    "\n",
    "        System.out.println(\"int values: \" + a + \" \" + b + \" \" + c);\n",
    "\n",
    "      Integer d = Integer.valueOf(a);\n",
    "      Integer e = Integer.valueOf(b);\n",
    "      Integer f = Integer.valueOf(c);\n",
    "\n",
    "      ArrayList<Integer> myNumbers = new ArrayList<Integer>();\n",
    "      myNumbers.add(d);\n",
    "      myNumbers.add(e);\n",
    "      myNumbers.add(f);\n",
    "      for (int i : myNumbers) {\n",
    "        System.out.println(i);\n",
    "      }\n",
    "      System.out.println(myNumbers);\n",
    "    }\n",
    "}\n",
    "Example.main(null);"
   ]
  },
  {
   "cell_type": "markdown",
   "metadata": {},
   "source": [
    "## Double"
   ]
  },
  {
   "cell_type": "code",
   "execution_count": 32,
   "metadata": {
    "vscode": {
     "languageId": "java"
    }
   },
   "outputs": [
    {
     "name": "stdout",
     "output_type": "stream",
     "text": [
      "24.821008262495514\n",
      "68.52454237527138\n",
      "92.77791987859953\n",
      "[24.821008262495514, 68.52454237527138, 92.77791987859953]\n"
     ]
    }
   ],
   "source": [
    "import java.util.Random;\n",
    "public class Example {\n",
    "    double a = 0.0;\n",
    "    public static void main(String[] args) {\n",
    "        double a = Math.random() * 100;\n",
    "        double b = Math.random() * 100;\n",
    "        double c = Math.random() * 100;\n",
    "\n",
    "      Double d = Double.valueOf(a);\n",
    "      Double e = Double.valueOf(b);\n",
    "      Double f = Double.valueOf(c);\n",
    "\n",
    "      List<Double> myDoubles = new ArrayList<Double>();\n",
    "      myDoubles.add(d);\n",
    "      myDoubles.add(e);\n",
    "      myDoubles.add(f);\n",
    "      for (double i : myDoubles) {\n",
    "        System.out.println(i);\n",
    "      }\n",
    "      System.out.println(myDoubles);\n",
    "    }\n",
    "}\n",
    "Example.main(null);"
   ]
  },
  {
   "cell_type": "markdown",
   "metadata": {},
   "source": [
    "## Boolean"
   ]
  },
  {
   "cell_type": "code",
   "execution_count": 31,
   "metadata": {
    "vscode": {
     "languageId": "java"
    }
   },
   "outputs": [
    {
     "name": "stdout",
     "output_type": "stream",
     "text": [
      "one true\n",
      "[true, false]\n"
     ]
    }
   ],
   "source": [
    "public class Example {\n",
    "    public static void main(String[] args) {\n",
    "        boolean x = true;\n",
    "        boolean y = false;\n",
    "\n",
    "        if (x && y) {\n",
    "            System.out.println(\"both true\");\n",
    "        }\n",
    "        else if (x || y) {\n",
    "            System.out.println(\"one true\");\n",
    "        }\n",
    "        else {\n",
    "            System.out.println(\"none true\");\n",
    "        }\n",
    "\n",
    "        Boolean a = Boolean.valueOf(x);\n",
    "        Boolean b = Boolean.valueOf(y);\n",
    "\n",
    "        List<Boolean> myBooleans = new ArrayList<Boolean>();   \n",
    "        myBooleans.add(a);\n",
    "        myBooleans.add(b);\n",
    "        System.out.println(myBooleans);\n",
    "    }\n",
    "}\n",
    "Example.main(null);"
   ]
  },
  {
   "cell_type": "markdown",
   "metadata": {},
   "source": [
    "## Char"
   ]
  },
  {
   "cell_type": "code",
   "execution_count": 28,
   "metadata": {
    "vscode": {
     "languageId": "java"
    }
   },
   "outputs": [
    {
     "name": "stdout",
     "output_type": "stream",
     "text": [
      "Element at index 0: A\n",
      "Element at index 1: B\n",
      "Element at index 2: C\n",
      "Element at index 3: D\n",
      "Element at index 4: E\n",
      "[A, B, C, D, E]\n"
     ]
    }
   ],
   "source": [
    "public class Example {\n",
    "    public static void main(String[] args) {\n",
    "        char[] charArray = new char[5];\n",
    "        charArray[0] = 'A';\n",
    "        charArray[1] = 'B';\n",
    "        charArray[2] = 'C';\n",
    "        charArray[3] = 'D';\n",
    "        charArray[4] = 'E';\n",
    "        \n",
    "        for (int i = 0; i < 5; i++) {\n",
    "        System.out.println(\"Element at index \" + i + \": \" + charArray[i]);\n",
    "        }\n",
    "\n",
    "        Character f = Character.valueOf(charArray[0]);\n",
    "        Character g = Character.valueOf(charArray[1]);\n",
    "        Character h = Character.valueOf(charArray[2]);\n",
    "        Character i = Character.valueOf(charArray[3]);\n",
    "        Character j = Character.valueOf(charArray[4]);\n",
    "\n",
    "        List<Character> myCharacters = new ArrayList<Character>();\n",
    "        myCharacters.add(f);\n",
    "        myCharacters.add(g);\n",
    "        myCharacters.add(h);\n",
    "        myCharacters.add(i);\n",
    "        myCharacters.add(j);\n",
    "\n",
    "        System.out.println(myCharacters);\n",
    "    }\n",
    "}\n",
    "\n",
    "Example.main(null);"
   ]
  }
 ],
 "metadata": {
  "kernelspec": {
   "display_name": "Java",
   "language": "java",
   "name": "java"
  },
  "language_info": {
   "codemirror_mode": "java",
   "file_extension": ".jshell",
   "mimetype": "text/x-java-source",
   "name": "Java",
   "pygments_lexer": "java",
   "version": "18.0.2.1+1-1"
  },
  "orig_nbformat": 4,
  "vscode": {
   "interpreter": {
    "hash": "b0fa6594d8f4cbf19f97940f81e996739fb7646882a419484c72d19e05852a7e"
   }
  }
 },
 "nbformat": 4,
 "nbformat_minor": 2
}
