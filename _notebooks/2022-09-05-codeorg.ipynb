{
 "cells": [
  {
   "cell_type": "markdown",
   "metadata": {},
   "source": [
    "# \"Code.Org Proof + Learnings\"\n",
    "> \"Key Tools for Bash proof\"\n",
    "\n",
    "- toc: true\n",
    "- branch: master\n",
    "- comments: true\n",
    "- categories: [KeyLearnings]"
   ]
  },
  {
   "cell_type": "markdown",
   "metadata": {},
   "source": [
    "# Proof of work\n",
    "![]({{ site.baseurl }}/images/sixseven.png)\n",
    "![]({{ site.baseurl }}/images/eightnine.png)\n",
    "![]({{ site.baseurl }}/images/teneleven.png)\n",
    "![]({{ site.baseurl }}/images/twelvethirteen.png)\n",
    "![]({{ site.baseurl }}/images/fourteenfifteen.png)\n",
    "\n",
    "# Key Learnings\n",
    "### Creating Objects\n",
    "I learned about creating objects in Java for the first time, and some new knowledge that I have taken into my little tiny brain, are a few things. I learned that creating objects in Java is very similar to creating objects in JavaScript. Using things like"
   ]
  },
  {
   "cell_type": "code",
   "execution_count": null,
   "metadata": {},
   "outputs": [],
   "source": [
    "// Blah blah blah class header \n",
    "Painter myPainter = new Painter; // creating new object"
   ]
  },
  {
   "cell_type": "markdown",
   "metadata": {},
   "source": [
    "Or things like"
   ]
  },
  {
   "cell_type": "code",
   "execution_count": null,
   "metadata": {},
   "outputs": [],
   "source": [
    "// Blah blah blah creating method\n",
    "this.method(); // referring to current object"
   ]
  },
  {
   "cell_type": "markdown",
   "metadata": {},
   "source": [
    "I also learned that extending something is just creating a subclass of the main \"super\" class."
   ]
  },
  {
   "cell_type": "code",
   "execution_count": null,
   "metadata": {},
   "outputs": [],
   "source": [
    "public class Banana extends Fruit; // Banana is a subclass of fruit"
   ]
  }
 ],
 "metadata": {
  "kernelspec": {
   "display_name": "Java",
   "language": "java",
   "name": "java"
  },
  "language_info": {
   "name": "java",
   "version": "3.10.6"
  },
  "orig_nbformat": 4,
  "vscode": {
   "interpreter": {
    "hash": "b0fa6594d8f4cbf19f97940f81e996739fb7646882a419484c72d19e05852a7e"
   }
  }
 },
 "nbformat": 4,
 "nbformat_minor": 2
}
