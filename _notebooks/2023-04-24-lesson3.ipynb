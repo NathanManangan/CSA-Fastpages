{
 "cells": [
  {
   "cell_type": "markdown",
   "metadata": {},
   "source": [
    "# Macro Monkey Lesson\n",
    "> Lesson\n",
    "\n",
    "- title: Macro Monkey Lesson\n",
    "- badges: true\n",
    "- toc: true\n",
    "- comments: true\n",
    "- categories: [KeyLearnings]"
   ]
  },
  {
   "cell_type": "markdown",
   "metadata": {},
   "source": [
    "# Hack #1 - Recursion"
   ]
  },
  {
   "cell_type": "code",
   "execution_count": 2,
   "metadata": {
    "vscode": {
     "languageId": "java"
    }
   },
   "outputs": [
    {
     "name": "stdout",
     "output_type": "stream",
     "text": [
      "**********\n",
      "*********\n",
      "********\n",
      "*******\n",
      "******\n",
      "*****\n",
      "****\n",
      "***\n",
      "**\n",
      "*\n"
     ]
    }
   ],
   "source": [
    "public void drawLine(int n) {\n",
    "    for (int i = 1; i <= n; i++) {\n",
    "        System.out.print(\"*\");\n",
    "    }\n",
    "    if(n > 0){\n",
    "        System.out.println();\n",
    "        drawLine(n - 1);\n",
    "    }\n",
    "}\n",
    "drawLine(10);"
   ]
  },
  {
   "cell_type": "markdown",
   "metadata": {},
   "source": [
    "# Hack #2 - Sorting"
   ]
  },
  {
   "cell_type": "code",
   "execution_count": 18,
   "metadata": {
    "vscode": {
     "languageId": "java"
    }
   },
   "outputs": [
    {
     "name": "stdout",
     "output_type": "stream",
     "text": [
      "Unsorted:\n",
      "USA: 3797, Russia: 6602, China: 3702, Canada: 3855, \n",
      "Sorted:\n",
      "Russia: 6602, Canada: 3855, USA: 3797, China: 3702, "
     ]
    }
   ],
   "source": [
    "import java.util.ArrayList;\n",
    "import java.util.Comparator;\n",
    "\n",
    "public class Country {\n",
    "    private String name;\n",
    "    private int size;\n",
    "\n",
    "    public Country(String name, int size) {\n",
    "        this.name = name;\n",
    "        this.size = size; // in million miles ^2\n",
    "    }\n",
    "\n",
    "    public String getName() {\n",
    "        return name;\n",
    "    }\n",
    "\n",
    "    public int getSize() {\n",
    "        return size;\n",
    "    }\n",
    "\n",
    "    public static void main(String[] args) {\n",
    "        ArrayList<Country> countries = new ArrayList<>();\n",
    "        countries.add(new Country(\"USA\", 3797));\n",
    "        countries.add(new Country(\"Russia\", 6602));\n",
    "        countries.add(new Country(\"China\", 3702));\n",
    "        countries.add(new Country(\"Canada\", 3855));\n",
    "\n",
    "        // Print the unsorted countries\n",
    "        System.out.println(\"Unsorted:\");\n",
    "        for (Country country : countries) {\n",
    "            System.out.print(country.getName() + \": \" + country.getSize() + \", \");\n",
    "        }\n",
    "        System.out.println(\"\");\n",
    "\n",
    "        // Sort the countries in decreasing order based on their size\n",
    "        countries.sort(new Comparator<Country>() {\n",
    "            @Override\n",
    "            public int compare(Country c1, Country c2) {\n",
    "                // Compare the sizes in descending order\n",
    "                return Integer.compare(c2.getSize(), c1.getSize());\n",
    "            }\n",
    "        });\n",
    "\n",
    "        // Print the sorted countries\n",
    "        System.out.println(\"Sorted:\");\n",
    "        for (Country country : countries) {\n",
    "            System.out.print(country.getName() + \": \" + country.getSize()  + \", \");\n",
    "        }\n",
    "    }\n",
    "}\n",
    "\n",
    "Country.main(null)"
   ]
  },
  {
   "cell_type": "markdown",
   "metadata": {},
   "source": [
    "# Hack #3 - Arraylists"
   ]
  },
  {
   "cell_type": "code",
   "execution_count": 42,
   "metadata": {
    "vscode": {
     "languageId": "java"
    }
   },
   "outputs": [
    {
     "name": "stdout",
     "output_type": "stream",
     "text": [
      "[1, 2, 3, 4, 5, 6, 7]\n",
      "[7, 6, 5, 4, 3, 2, 1]\n",
      "Reversed - true\n",
      "[1, 3, 5, 7]\n"
     ]
    }
   ],
   "source": [
    "public class Compare{\n",
    "    public boolean compareArrayLists(ArrayList<Integer> list1, ArrayList<Integer> list2){\n",
    "        if(list1.size() != list2.size()){\n",
    "            return false;\n",
    "        }\n",
    "        for(int i=0; i < list1.size(); i++){\n",
    "            if(list1.get(i) != list2.get(list2.size()-i-1)){\n",
    "                return false;\n",
    "            }\n",
    "        }\n",
    "        return true;\n",
    "    }\n",
    "\n",
    "    public void delete(ArrayList<Integer> list1){\n",
    "        int int1 = list1.get(0);\n",
    "\n",
    "        for(int i = 0; i < list1.size(); i++){\n",
    "            if(i == 0){\n",
    "                ;\n",
    "            }\n",
    "            else if (i !=0){\n",
    "                list1.remove(i);\n",
    "            }\n",
    "        }\n",
    "    }\n",
    "\n",
    "    public static void main(String[] args){\n",
    "        Compare compare = new Compare();\n",
    "\n",
    "        ArrayList<Integer> list1 = new ArrayList<Integer>();\n",
    "        list1.add(1);\n",
    "        list1.add(2);\n",
    "        list1.add(3);\n",
    "        list1.add(4);\n",
    "        list1.add(5);\n",
    "        list1.add(6);\n",
    "        list1.add(7);\n",
    "\n",
    "\n",
    "        ArrayList<Integer> list2 = new ArrayList<Integer>();\n",
    "        list2.add(7);\n",
    "        list2.add(6);\n",
    "        list2.add(5);\n",
    "        list2.add(4);\n",
    "        list2.add(3);\n",
    "        list2.add(2);\n",
    "        list2.add(1);\n",
    "\n",
    "        System.out.println(list1);\n",
    "        System.out.println(list2);\n",
    "\n",
    "        System.out.println(\"Reversed - \" + compare.compareArrayLists(list1,list2));\n",
    "        compare.delete(list1);\n",
    "        System.out.println(list1);\n",
    "    }\n",
    "}\n",
    "\n",
    "Compare.main(null);"
   ]
  }
 ],
 "metadata": {
  "kernelspec": {
   "display_name": "Java",
   "language": "java",
   "name": "java"
  },
  "language_info": {
   "codemirror_mode": "java",
   "file_extension": ".jshell",
   "mimetype": "text/x-java-source",
   "name": "Java",
   "pygments_lexer": "java",
   "version": "18.0.2.1+1-1"
  },
  "orig_nbformat": 4
 },
 "nbformat": 4,
 "nbformat_minor": 2
}
