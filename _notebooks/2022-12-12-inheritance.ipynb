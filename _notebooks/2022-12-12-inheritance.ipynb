{
 "cells": [
  {
   "cell_type": "markdown",
   "metadata": {},
   "source": [
    "# \"Inheritance Notebook\"\n",
    "> \"Captures Inheritance lesson\"\n",
    "\n",
    "- toc: true\n",
    "- branch: master\n",
    "- badges: true\n",
    "- comments: true\n",
    "- categories: [KeyLearnings]"
   ]
  },
  {
   "cell_type": "markdown",
   "metadata": {},
   "source": [
    "# Notes\n",
    "\n",
    "- Can Create super classes"
   ]
  },
  {
   "cell_type": "code",
   "execution_count": null,
   "metadata": {},
   "outputs": [],
   "source": [
    "Public class A{\n",
    "\n",
    "}\n",
    "\n",
    "Public class B extends A{\n",
    "    \n",
    "}"
   ]
  },
  {
   "cell_type": "markdown",
   "metadata": {},
   "source": [
    "- a subclass can become a super class because you can extend it many many time\n",
    "- can add other parameters inside of a subclass to make it more unique\n",
    "- put the parameters you are using from the super class to go inside of the new\n",
    "- @Override to give different method of a super class"
   ]
  },
  {
   "cell_type": "markdown",
   "metadata": {},
   "source": [
    "## HW pt 1\n",
    "1) Create a world cup superclass with properties of your choice and subclasses for five teams which inherits those properties\n",
    "2) Write a constructor for one of those subclasses"
   ]
  },
  {
   "cell_type": "code",
   "execution_count": 19,
   "metadata": {},
   "outputs": [
    {
     "name": "stdout",
     "output_type": "stream",
     "text": [
      "Argentina is good = true\n",
      "Argentina color = blue\n",
      "Brazil is good = true\n",
      "Brazil color = yellow\n",
      "Japan is good = true\n",
      "Japan color = blue\n",
      "France is good = true\n",
      "France color = dark blue\n",
      "Morocco is good = true\n",
      "Morocco color = red\n"
     ]
    }
   ],
   "source": [
    "public class WorldCup{\n",
    "    boolean isGood = true;\n",
    "    String color = \"maroon\";\n",
    "}\n",
    "public class Argentina extends WorldCup{\n",
    "    String color = \"blue\";\n",
    "    public static void main(String args[]){\n",
    "        Argentina argentina = new Argentina();\n",
    "        System.out.println(\"Argentina is good = \" + argentina.isGood);\n",
    "        System.out.println(\"Argentina color = \" +argentina.color);\n",
    "    }\n",
    "}\n",
    "public class Brazil extends WorldCup{\n",
    "    String color = \"yellow\";\n",
    "    public static void main(String args[]){\n",
    "        Brazil brazil = new Brazil();\n",
    "        System.out.println(\"Brazil is good = \" + brazil.isGood);\n",
    "        System.out.println(\"Brazil color = \" + brazil.color);\n",
    "    }\n",
    "}\n",
    "public class Japan extends WorldCup{\n",
    "    String color = \"blue\";\n",
    "    public static void main(String args[]){\n",
    "        Japan japan = new Japan();\n",
    "        System.out.println(\"Japan is good = \" + japan.isGood);\n",
    "        System.out.println(\"Japan color = \" + japan.color);\n",
    "    }\n",
    "}\n",
    "public class France extends WorldCup{\n",
    "    String color = \"dark blue\";\n",
    "    public static void main(String args[]){\n",
    "        France france = new France();\n",
    "        System.out.println(\"France is good = \" + france.isGood);\n",
    "        System.out.println(\"France color = \" +france.color);\n",
    "    }\n",
    "}\n",
    "public class Morocco extends WorldCup{\n",
    "    String color = \"red\";\n",
    "    public static void main(String args[]){\n",
    "        Morocco morocco = new Morocco();\n",
    "        System.out.println(\"Morocco is good = \" + morocco.isGood);\n",
    "        System.out.println(\"Morocco color = \" + morocco.color);\n",
    "    }\n",
    "}\n",
    "\n",
    "Argentina.main(null);\n",
    "Brazil.main(null);\n",
    "Japan.main(null);\n",
    "France.main(null);\n",
    "Morocco.main(null);"
   ]
  },
  {
   "cell_type": "markdown",
   "metadata": {},
   "source": [
    "## HW pt 2\n",
    "- Add a getAge method in the Person super class\n",
    "- Create a new subclass Student with additional members of your choice to personalize the Student class\n",
    "- Create a new subclass Teacher with additiona members of your choice\n",
    "- Override the toString method using the @Override to print a Student and teacher object with new members\n",
    "- Print the student and teacher."
   ]
  },
  {
   "cell_type": "code",
   "execution_count": 41,
   "metadata": {},
   "outputs": [
    {
     "name": "stdout",
     "output_type": "stream",
     "text": [
      "Student (name: Don, birthday: 2005, coding: true, gpa:5.0, grade: 11)\n",
      "Person (name: Johnny Sins, birthday: 1985)\n",
      "Teacher (name: Mortensen, birthday: Since Forever, subject: CODE CODE CODE, degree: IDK lmao)\n"
     ]
    }
   ],
   "source": [
    "public class Person {\n",
    "    protected String name;\n",
    "    protected String birthday;\n",
    " \n",
    "    public Person (String name, String birthday){\n",
    "       this.name = name;\n",
    "       this.birthday = birthday;\n",
    "    }\n",
    " \n",
    "    public String getName(){\n",
    "       return name;\n",
    "    }\n",
    "\n",
    "    public int getAge() {\n",
    "         return 2022 - Integer.parseInt(birthday);\n",
    "    }\n",
    "\n",
    "    @Override\n",
    "    public String toString() {\n",
    "         return \"Person (name: \" + name + \", birthday: \" + birthday + \")\";\n",
    "    }\n",
    " }\n",
    " \n",
    " public class Student extends Person {\n",
    "    private int grade;\n",
    "    private double gpa;\n",
    "    private String coding;\n",
    " \n",
    "    public Student (String name, String birthday, int grade, double gpa, String coding) {\n",
    "       super(name, birthday);\n",
    "       this.grade = grade;\n",
    "       this.gpa = gpa;\n",
    "       this.coding = coding;\n",
    "    }\n",
    "\n",
    "    // return gpa\n",
    "    public double getGPA() {\n",
    "        return gpa;\n",
    "    }\n",
    "\n",
    "    public String coding() {\n",
    "        return coding;\n",
    "    }\n",
    "\n",
    "    // return grade\n",
    "    public int getGrade(){\n",
    "       return grade;\n",
    "    }\n",
    "\n",
    "    @Override\n",
    "    public String toString() {\n",
    "         return \"Student (name: \" + name + \", birthday: \" + birthday + \", coding: \" + coding + \", gpa:\" + gpa + \", grade: \" + grade + \")\";\n",
    "    }\n",
    " }\n",
    "\n",
    " public class Teacher extends Person {\n",
    "      private String subject;\n",
    "      private String degree;\n",
    "   \n",
    "      public Teacher (String name, String birthday, String subject, String degree) {\n",
    "         super(name, birthday);\n",
    "         this.subject = subject;\n",
    "         this.degree = degree;\n",
    "      }\n",
    "   \n",
    "      // return subject\n",
    "      public String getSubject() {\n",
    "         return subject;\n",
    "      }\n",
    "\n",
    "   \n",
    "      // return degree\n",
    "      public String getDegree() {\n",
    "         return degree;\n",
    "      }\n",
    "\n",
    "      @Override\n",
    "      public String toString() {\n",
    "            return \"Teacher (name: \" + name + \", birthday: \" + birthday + \", subject: \" + subject + \", degree: \" + degree + \")\";\n",
    "      }\n",
    " }\n",
    "\n",
    "Person johnnysins = new Person(\"Johnny Sins\", \"1985\");\n",
    "Person don = new Student(\"Don\", \"2005\", 11, 5.0, \"true\");\n",
    "Person mortensen = new Teacher(\"Mortensen\", \"Since Forever\", \"CODE CODE CODE\", \"IDK lmao\");\n",
    "System.out.println(don.toString());\n",
    "System.out.println(johnnysins.toString());\n",
    "System.out.println(mortensen.toString());"
   ]
  }
 ],
 "metadata": {
  "kernelspec": {
   "display_name": "Java",
   "language": "java",
   "name": "java"
  },
  "language_info": {
   "name": "java"
  },
  "orig_nbformat": 4
 },
 "nbformat": 4,
 "nbformat_minor": 2
}
