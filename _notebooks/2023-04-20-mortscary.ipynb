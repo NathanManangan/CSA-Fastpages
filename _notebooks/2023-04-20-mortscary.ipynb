{
 "cells": [
  {
   "cell_type": "markdown",
   "metadata": {},
   "source": [
    "# Test\n",
    "> Mort Test on demand\n",
    "\n",
    "- title: Testing\n",
    "- badges: true\n",
    "- toc: true\n",
    "- comments: true\n",
    "- categories: [KeyLearnings]"
   ]
  },
  {
   "cell_type": "code",
   "execution_count": 43,
   "metadata": {
    "vscode": {
     "languageId": "java"
    }
   },
   "outputs": [
    {
     "name": "stdout",
     "output_type": "stream",
     "text": [
      "Book Name : Artsy\n",
      "ID : 1\n",
      "Nanoseconds : 121353803287916\n",
      "Book Name : Crafty\n",
      "ID : 2\n",
      "Nanoseconds : 121353803290416\n",
      "Book count: 2\n"
     ]
    }
   ],
   "source": [
    "public class Book{\n",
    "    private static ArrayList<Book> library = new ArrayList<Book>(); //unused\n",
    "    protected String title;\n",
    "    protected int id;\n",
    "    private static int bookcount; // bookcount\n",
    "\n",
    "    public String toString(){\n",
    "        return title;\n",
    "    }\n",
    "\n",
    "    public Book(String title, int id){\n",
    "        this.title = title;\n",
    "        this.id = id;\n",
    "        Book.bookcount++; // count books\n",
    "    }\n",
    "\n",
    "\n",
    "    public static void main(String[] args){\n",
    "        Book book1 = new Book(\"Artsy\", 1);\n",
    "        long book1time = System.nanoTime(); // start nanotime, not practical because it is outside the creation of the book\n",
    "        Book book2 = new Book(\"Crafty\", 2);\n",
    "        long book2time = System.nanoTime(); // start nanotime\n",
    "        System.out.println(\"Book Name : \" + book1.title);\n",
    "        System.out.println(\"ID : \" + book1.id);\n",
    "        System.out.println(\"Nanoseconds : \" + book1time); // print nanotime\n",
    "        System.out.println(\"Book Name : \" + book2.title);\n",
    "        System.out.println(\"ID : \" + book2.id);\n",
    "        System.out.println(\"Nanoseconds : \" + book2time);\n",
    "        System.out.println(\"Book count: \" + Book.bookcount);\n",
    "    }\n",
    "}\n",
    "\n",
    "Book.main(null)"
   ]
  },
  {
   "cell_type": "code",
   "execution_count": 44,
   "metadata": {
    "vscode": {
     "languageId": "java"
    }
   },
   "outputs": [
    {
     "name": "stdout",
     "output_type": "stream",
     "text": [
      "Novel Name : Artsies\n",
      "ID : 3\n",
      "Nanoseconds : 121535343024458\n",
      "Novel Name : Crafties\n",
      "ID : 4\n",
      "Nanoseconds : 121535343034708\n",
      "Textbook Name : Artser\n",
      "ID : 5\n",
      "Nanoseconds : 121535363307750\n",
      "Textbook Name : Crafter\n",
      "ID : 6\n",
      "Nanoseconds : 121535363314500\n"
     ]
    }
   ],
   "source": [
    "public class Novel extends Book{ // extends\n",
    "    private String author;\n",
    "\n",
    "    public Novel(String title, int id, String author){\n",
    "        super(title, id); // pulls title and id from book\n",
    "        this.author = author;\n",
    "    }\n",
    "\n",
    "    public static void main(String[] args){ // tester for novel\n",
    "        Novel novel1 = new Novel(\"Artsies\", 3, \"Greg Heffley\");\n",
    "        long novel1time = System.nanoTime(); // start nanotime, not practical because it is outside the creation of the novel\n",
    "        Novel novel2 = new Novel(\"Crafties\", 4, \"Robert Downey Jr.\");\n",
    "        long novel2time = System.nanoTime(); // start nanotime\n",
    "        System.out.println(\"Novel Name : \" + novel1.title);\n",
    "        System.out.println(\"ID : \" + novel1.id);\n",
    "        System.out.println(\"Nanoseconds : \" + novel1time); \n",
    "        System.out.println(\"Novel Name : \" + novel2.title);\n",
    "        System.out.println(\"ID : \" + novel2.id);\n",
    "        System.out.println(\"Nanoseconds : \" + novel2time);\n",
    "    }\n",
    "}\n",
    "\n",
    "public class Textbook extends Book{ // extends\n",
    "    private String pubCo;\n",
    "    \n",
    "    public Textbook(String title, int id, String pubCo){\n",
    "        super(title, id); // pulls title and id from book\n",
    "        this.pubCo = pubCo;\n",
    "    }\n",
    "\n",
    "    public static void main(String[] args){ // tester for textbook\n",
    "        Textbook textbook1 = new Textbook(\"Artser\", 5, \"Target\");\n",
    "        long textbook1time = System.nanoTime(); // start nanotime, not practical because it is outside the creation of the textbook\n",
    "        Textbook textbook2 = new Textbook(\"Crafter\", 6, \"Walmart\");\n",
    "        long textbook2time = System.nanoTime(); // start nanotime\n",
    "        System.out.println(\"Textbook Name : \" + textbook1.title);\n",
    "        System.out.println(\"ID : \" + textbook1.id);\n",
    "        System.out.println(\"Nanoseconds : \" + textbook1time);\n",
    "        System.out.println(\"Textbook Name : \" + textbook2.title);\n",
    "        System.out.println(\"ID : \" + textbook2.id);\n",
    "        System.out.println(\"Nanoseconds : \" + textbook2time);\n",
    "    }\n",
    "}\n",
    "\n",
    "Novel.main(null);\n",
    "Textbook.main(null);"
   ]
  }
 ],
 "metadata": {
  "kernelspec": {
   "display_name": "Java",
   "language": "java",
   "name": "java"
  },
  "language_info": {
   "codemirror_mode": "java",
   "file_extension": ".jshell",
   "mimetype": "text/x-java-source",
   "name": "Java",
   "pygments_lexer": "java",
   "version": "18.0.2.1+1-1"
  },
  "orig_nbformat": 4,
  "vscode": {
   "interpreter": {
    "hash": "b0fa6594d8f4cbf19f97940f81e996739fb7646882a419484c72d19e05852a7e"
   }
  }
 },
 "nbformat": 4,
 "nbformat_minor": 2
}
