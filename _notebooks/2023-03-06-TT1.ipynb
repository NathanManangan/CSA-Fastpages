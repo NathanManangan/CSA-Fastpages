{
 "cells": [
  {
   "cell_type": "markdown",
   "metadata": {},
   "source": [
    "# Data Types\n",
    "> Data Types in Java\n",
    "\n",
    "- title: Data Types\n",
    "- badges: true\n",
    "- toc: true\n",
    "- comments: true\n",
    "- categories: [KeyLearnings]"
   ]
  },
  {
   "cell_type": "code",
   "execution_count": 19,
   "metadata": {
    "vscode": {
     "languageId": "java"
    }
   },
   "outputs": [
    {
     "name": "stdout",
     "output_type": "stream",
     "text": [
      "Welcome to Java program to add two binary numbers\n",
      "Please enter first binary number\n",
      "Invalid input, please type in a '1' or a '0' \n"
     ]
    }
   ],
   "source": [
    "import java.util.Scanner; \n",
    "\n",
    "public class Main { \n",
    "    public static void main(String[] args) { \n",
    "        System.out.println(\"Welcome to Java program to add two binary numbers\"); \n",
    "        Scanner scnr = new Scanner(System.in);  // scanner\n",
    "        System.out.println(\"Please enter first binary number\"); // first num\n",
    "        if(scnr.nextLine() == \"1\" || scnr.nextLine() == \"0\"){\n",
    "            String first = scnr.nextLine(); \n",
    "            System.out.println(first);\n",
    "            System.out.println(\"Please enter second binary number\"); // second num\n",
    "            if(scnr.nextLine() == \"1\" || scnr.nextLine() == \"0\"){\n",
    "                String second = scnr.nextLine(); \n",
    "                System.out.println(second);\n",
    "                String sum = sum(first, second); System.out.println(\"Sum of two binary number is : \" + sum); \n",
    "                scnr.close(); \n",
    "            }\n",
    "            else{\n",
    "                System.out.println(\"Invalid input, please type in a '1' or a '0' \");\n",
    "            }\n",
    "        }\n",
    "        else{\n",
    "            System.out.println(\"Invalid input, please type in a '1' or a '0' \");\n",
    "        }\n",
    "    } \n",
    "    public static String add(String first, String second) { \n",
    "        int b1 = Integer.parseInt(first, 2); \n",
    "        int b2 = Integer.parseInt(second, 2); \n",
    "        int sum = b1 + b2; \n",
    "        return Integer.toBinaryString(sum); \n",
    "    }\n",
    "    public static String sum(String b1, String b2) { \n",
    "        int len1 = b1.length(); \n",
    "        int len2 = b2.length(); \n",
    "        int carry = 0; \n",
    "        String res = \"\";\n",
    "        int maxLen = Math.max(len1, len2); for (int i = 0; i < maxLen; i++) { \n",
    "            int p = i < len1 ? b1.charAt(len1 - 1 - i) - '0' : 0; \n",
    "            int q = i < len2 ? b2.charAt(len2 - 1 - i) - '0' : 0; \n",
    "            int tmp = p + q + carry; \n",
    "            carry = tmp / 2; \n",
    "            res = tmp % 2 + res; \n",
    "        } \n",
    "        return (carry == 0) ? res : \"1\" + res; \n",
    "    } \n",
    "    \n",
    "}\n",
    "Main.main(null);"
   ]
  }
 ],
 "metadata": {
  "kernelspec": {
   "display_name": "Java",
   "language": "java",
   "name": "java"
  },
  "language_info": {
   "codemirror_mode": "java",
   "file_extension": ".jshell",
   "mimetype": "text/x-java-source",
   "name": "Java",
   "pygments_lexer": "java",
   "version": "18.0.2.1+1-1"
  },
  "orig_nbformat": 4
 },
 "nbformat": 4,
 "nbformat_minor": 2
}
