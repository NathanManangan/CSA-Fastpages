{
 "cells": [
  {
   "cell_type": "markdown",
   "metadata": {},
   "source": [
    "# Sorts + Hashmap\n",
    "> Java sorting algorithms and hashmaps\n",
    "\n",
    "- title: Sorts + Hashmaps\n",
    "- badges: true\n",
    "- toc: true\n",
    "- comments: true\n",
    "- categories: [KeyLearnings]"
   ]
  },
  {
   "cell_type": "markdown",
   "metadata": {},
   "source": [
    "## Merge Sort"
   ]
  },
  {
   "cell_type": "code",
   "execution_count": 113,
   "metadata": {
    "vscode": {
     "languageId": "java"
    }
   },
   "outputs": [
    {
     "name": "stdout",
     "output_type": "stream",
     "text": [
      "-- Merge --\n",
      "Unsorted array:\n",
      "3 7 12 18 11 6 5 8\n",
      "Sorted array:\n",
      "3 5 6 7 8 11 12 18\n",
      "Runtime: \n",
      "7750 nanoseconds\n",
      "\n"
     ]
    }
   ],
   "source": [
    "public class MergeSort {\n",
    "\n",
    "  public static void main(String[] args) {\n",
    "    // create an example array to be sorted\n",
    "    int[] arr = { 3, 7, 12, 18, 11, 6, 5, 8 };\n",
    "\n",
    "    // print the unsorted array to the console\n",
    "    System.out.println(\"-- Merge --\");\n",
    "    System.out.println(\"Unsorted array:\");\n",
    "    printArray(arr);\n",
    "\n",
    "    // sort the array using the mergeSort method\n",
    "    long startTime = System.nanoTime(); // start timer in nanoseconds by creating a set time\n",
    "    mergeSort(arr);\n",
    "    long endTime   = System.nanoTime(); // end timer by creating an end time\n",
    "    long totalTime = endTime - startTime; // subtract start from end to get total time\n",
    "\n",
    "    // print the sorted array to the console\n",
    "    System.out.println();\n",
    "    System.out.println(\"Sorted array:\");\n",
    "    printArray(arr);\n",
    "    System.out.println(\"\");\n",
    "    System.out.println(\"Runtime: \");\n",
    "    System.out.println(totalTime + \" nanoseconds\");\n",
    "    System.out.println();\n",
    "  }\n",
    "\n",
    "  // mergeSort method takes an array of integers and sorts them using the merge sort algorithm\n",
    "  public static void mergeSort(int[] arr) {\n",
    "    // base case: if the array is empty or has only one element, it is already sorted\n",
    "    if (arr.length <= 1) {\n",
    "      return;\n",
    "    }\n",
    "\n",
    "    // find the midpoint of the array\n",
    "    int mid = arr.length / 2;\n",
    "\n",
    "    // create new arrays for the left and right halves of the original array\n",
    "    int[] left = new int[mid];\n",
    "    int[] right = new int[arr.length - mid];\n",
    "\n",
    "    // copy the left half of the original array into the left array\n",
    "    for (int i = 0; i < mid; i++) {\n",
    "      left[i] = arr[i];\n",
    "    }\n",
    "\n",
    "    // copy the right half of the original array into the right array\n",
    "    for (int i = mid; i < arr.length; i++) {\n",
    "      right[i - mid] = arr[i];\n",
    "    }\n",
    "\n",
    "    // recursively sort the left and right arrays\n",
    "    mergeSort(left);\n",
    "    mergeSort(right);\n",
    "\n",
    "    // merge the sorted left and right arrays back into the original array\n",
    "    merge(left, right, arr);\n",
    "  }\n",
    "\n",
    "  // merge method takes two sorted arrays and merges them into a new sorted array\n",
    "  public static void merge(int[] left, int[] right, int[] arr) {\n",
    "    // initialize variables for the left, right, and result array indexes\n",
    "    int i = 0;\n",
    "    int j = 0;\n",
    "    int k = 0;\n",
    "\n",
    "    // compare the elements of the left and right arrays, and add the smaller one to the result array\n",
    "    while (i < left.length && j < right.length) {\n",
    "      if (left[i] <= right[j]) {\n",
    "        arr[k] = left[i];\n",
    "        i++;\n",
    "      } else {\n",
    "        arr[k] = right[j];\n",
    "        j++;\n",
    "      }\n",
    "      k++;\n",
    "    }\n",
    "\n",
    "    // add any remaining elements from the left array to the result array\n",
    "    while (i < left.length) {\n",
    "      arr[k] = left[i];\n",
    "      i++;\n",
    "      k++;\n",
    "    }\n",
    "\n",
    "    // add any remaining elements from the right array to the result array\n",
    "    while (j < right.length) {\n",
    "      arr[k] = right[j];\n",
    "      j++;\n",
    "      k++;\n",
    "    }\n",
    "  }\n",
    "\n",
    "  // printArray method takes an array of integers and prints it to the console\n",
    "  public static void printArray(int[] arr) {\n",
    "    for (int i = 0; i < arr.length; i++) {\n",
    "      System.out.print(arr[i]);\n",
    "      if (i < arr.length - 1) {\n",
    "        System.out.print(\" \");\n",
    "      }\n",
    "    }\n",
    "  }\n",
    "}\n",
    "\n",
    "MergeSort.main(null);"
   ]
  },
  {
   "cell_type": "markdown",
   "metadata": {},
   "source": [
    "## Bubble Sort\n",
    "- Very simple\n",
    "- Goes through each element and compares to adjacent elements and switches if\n",
    "- High time complexity\n",
    "- O(n^2)\n"
   ]
  },
  {
   "cell_type": "code",
   "execution_count": 95,
   "metadata": {
    "vscode": {
     "languageId": "java"
    }
   },
   "outputs": [
    {
     "name": "stdout",
     "output_type": "stream",
     "text": [
      "\n",
      "-- Bubble --\n",
      "Unsorted:\n",
      "3 11 15 5 9 2 7  \n",
      "Sorted:\n",
      "2 3 5 7 9 11 15 \n",
      "Runtime: \n",
      "116709 nanoseconds\n"
     ]
    }
   ],
   "source": [
    "public class BubbleSort{\n",
    "    public static void main(String[] args){\n",
    "        int[] list = {3, 11, 15, 5, 9, 2, 7}; // list\n",
    "        int tmp = 0;\n",
    "\n",
    "        System.out.println();\n",
    "        System.out.println(\"-- Bubble --\");\n",
    "        System.out.println(\"Unsorted:\");\n",
    "        for(int i = 0; i < list.length; i++){\n",
    "            System.out.print(list[i] + \" \");\n",
    "        }\n",
    "        System.out.println(\" \");\n",
    "\n",
    "        long startTime = System.nanoTime(); // start timer in nanoseconds by creating a set time\n",
    "        for (int i = 0; i < list.length; i++){\n",
    "            for (int j = 1; j < (list.length - i); j++){ // O(n^2)\n",
    "                if (list[j - 1] > list[j]){\n",
    "                    tmp = list[j-1];\n",
    "                    list[j-1] = list[j];\n",
    "                    list[j] = tmp;\n",
    "                }\n",
    "            }\n",
    "        }\n",
    "        System.out.println(\"Sorted:\");\n",
    "        for(int i = 0; i < list.length; i++){\n",
    "            System.out.print(list[i] + \" \");\n",
    "        }\n",
    "        long endTime   = System.nanoTime(); // end timer by creating an end time\n",
    "        long totalTime = endTime - startTime; // subtract start from end to get total time\n",
    "        System.out.println(\"\");\n",
    "        System.out.println(\"Runtime: \");\n",
    "        System.out.println(totalTime + \" nanoseconds\");\n",
    "    }\n",
    "}\n",
    "\n",
    "BubbleSort.main(null);"
   ]
  },
  {
   "cell_type": "markdown",
   "metadata": {},
   "source": [
    "## Selection Sort\n",
    "- Goes value by value through entire list and looks for the smallest value\n",
    "- Swaps positions with that value\n",
    "- Goes through each value and checks each value\n",
    "- O(n^2) time complexity"
   ]
  },
  {
   "cell_type": "code",
   "execution_count": 96,
   "metadata": {
    "vscode": {
     "languageId": "java"
    }
   },
   "outputs": [
    {
     "name": "stdout",
     "output_type": "stream",
     "text": [
      "\n",
      "-- Selection --\n",
      "Unsorted:\n",
      "7 11 14 10 9 4 3  \n",
      "Sorted:\n",
      "3 4 7 9 10 11 14 \n",
      "Runtime: \n",
      "116708 nanoseconds\n"
     ]
    }
   ],
   "source": [
    "public class SelectionSort{\n",
    "    public static void main(String[] args){\n",
    "        int[] list = {7, 11, 14, 10, 9, 4, 3};\n",
    "        int tmp = 0;\n",
    "\n",
    "        System.out.println();\n",
    "        System.out.println(\"-- Selection --\");\n",
    "        System.out.println(\"Unsorted:\");\n",
    "        for(int i = 0; i < list.length; i++){\n",
    "            System.out.print(list[i] + \" \");\n",
    "        }\n",
    "        System.out.println(\" \");\n",
    "\n",
    "        long startTime = System.nanoTime(); // start timer in nanoseconds by creating a set time\n",
    "\n",
    "        // Selection Sorting algorithm\n",
    "        \n",
    "        for (int i = 0; i < list.length - 1; i++){\n",
    "            int index = i;\n",
    "            for (int j = i + 1; j < list.length; j++){ // O(n^2)\n",
    "                if (list[j] < list[index]){\n",
    "                    index = j;\n",
    "                }\n",
    "            }\n",
    "            tmp = list[index];\n",
    "            list[index] = list[i];\n",
    "            list[i] = tmp;\n",
    "        }\n",
    "\n",
    "        // End of Selection Sorting algorithm\n",
    "        // Printing the sorted array\n",
    "\n",
    "        System.out.println(\"Sorted:\");\n",
    "        for(int i = 0; i < list.length; i++){\n",
    "            System.out.print(list[i] + \" \");\n",
    "        }\n",
    "        long endTime   = System.nanoTime(); // end timer by creating an end time\n",
    "        long totalTime = endTime - startTime; // subtract start from end to get total time\n",
    "        System.out.println(\"\");\n",
    "        System.out.println(\"Runtime: \");\n",
    "        System.out.println(totalTime + \" nanoseconds\");\n",
    "    }\n",
    "}\n",
    "\n",
    "SelectionSort.main(null);"
   ]
  },
  {
   "cell_type": "markdown",
   "metadata": {},
   "source": [
    "## Insertion Sort\n",
    "- Linear algorithm\n",
    "- Goes through each element and looks if next element is less than it, If so, swaps\n",
    "- O(n^2) time complexity"
   ]
  },
  {
   "cell_type": "code",
   "execution_count": 97,
   "metadata": {
    "vscode": {
     "languageId": "java"
    }
   },
   "outputs": [
    {
     "name": "stdout",
     "output_type": "stream",
     "text": [
      "\n",
      "-- Insertion --\n",
      "Unsorted:\n",
      "6 12 14 0 9 2 3  \n",
      "Sorted:\n",
      "0 2 3 6 9 12 14 \n",
      "Runtime: \n",
      "121292 nanoseconds\n"
     ]
    }
   ],
   "source": [
    "public class InsertionSort{\n",
    "    public static void main(String[] args){\n",
    "        int[] list = {6, 12, 14, 0, 9, 2, 3};\n",
    "        int tmp = 0;\n",
    "\n",
    "        System.out.println();\n",
    "        System.out.println(\"-- Insertion --\");\n",
    "        System.out.println(\"Unsorted:\");\n",
    "        for(int i = 0; i < list.length; i++){\n",
    "            System.out.print(list[i] + \" \");\n",
    "        }\n",
    "        System.out.println(\" \");\n",
    "\n",
    "        long startTime = System.nanoTime(); // start timer in nanoseconds by creating a set time\n",
    "\n",
    "        // Insertion Sorting algorithm\n",
    "        \n",
    "        for (int i = 1; i < list.length; i++){\n",
    "            int temp = list[i];\n",
    "            int j = i - 1;\n",
    "            while (j >= 0 && list[j] > temp){\n",
    "                list[j + 1] = list[j];\n",
    "                j = j - 1;\n",
    "            }\n",
    "            list[j + 1] = temp;\n",
    "        }\n",
    "\n",
    "        // End of Insertion Sorting algorithm\n",
    "        // Printing the sorted array\n",
    "\n",
    "        System.out.println(\"Sorted:\");\n",
    "        for(int i = 0; i < list.length; i++){\n",
    "            System.out.print(list[i] + \" \");\n",
    "        }\n",
    "        long endTime   = System.nanoTime(); // end timer by creating an end time\n",
    "        long totalTime = endTime - startTime; // subtract start from end to get total time\n",
    "        System.out.println(\"\");\n",
    "        System.out.println(\"Runtime: \");\n",
    "        System.out.println(totalTime + \" nanoseconds\");\n",
    "    }\n",
    "}\n",
    "\n",
    "InsertionSort.main(null);"
   ]
  },
  {
   "cell_type": "code",
   "execution_count": 114,
   "metadata": {
    "vscode": {
     "languageId": "java"
    }
   },
   "outputs": [
    {
     "name": "stdout",
     "output_type": "stream",
     "text": [
      "-- Merge --\n",
      "Unsorted array:\n",
      "3 7 12 18 11 6 5 8\n",
      "Sorted array:\n",
      "3 5 6 7 8 11 12 18\n",
      "Runtime: \n",
      "4500 nanoseconds\n",
      "\n",
      "\n",
      "-- Bubble --\n",
      "Unsorted:\n",
      "3 11 15 5 9 2 7  \n",
      "Sorted:\n",
      "2 3 5 7 9 11 15 \n",
      "Runtime: \n",
      "77750 nanoseconds\n"
     ]
    }
   ],
   "source": [
    "MergeSort.main(null);\n",
    "BubbleSort.main(null);"
   ]
  },
  {
   "cell_type": "code",
   "execution_count": 100,
   "metadata": {
    "vscode": {
     "languageId": "java"
    }
   },
   "outputs": [
    {
     "name": "stdout",
     "output_type": "stream",
     "text": [
      "\n",
      "-- Selection --\n",
      "Unsorted:\n",
      "7 11 14 10 9 4 3  \n",
      "Sorted:\n",
      "3 4 7 9 10 11 14 \n",
      "Runtime: \n",
      "126833 nanoseconds\n",
      "\n",
      "-- Insertion --\n",
      "Unsorted:\n",
      "6 12 14 0 9 2 3  \n",
      "Sorted:\n",
      "0 2 3 6 9 12 14 \n",
      "Runtime: \n",
      "1078125 nanoseconds\n"
     ]
    }
   ],
   "source": [
    "SelectionSort.main(null);\n",
    "InsertionSort.main(null);"
   ]
  },
  {
   "cell_type": "code",
   "execution_count": 112,
   "metadata": {
    "vscode": {
     "languageId": "java"
    }
   },
   "outputs": [
    {
     "name": "stdout",
     "output_type": "stream",
     "text": [
      "Look up time: 584 nanoseconds\n",
      "Binary search time: 1500 nanoseconds\n"
     ]
    }
   ],
   "source": [
    "import java.util.HashMap;\n",
    "import java.lang.Integer;\n",
    "import java.util.Scanner;\n",
    "\n",
    "public class Hash {\n",
    "    public static void main(String[] args){\n",
    "        HashMap<Integer, Integer> hashmap = new HashMap<Integer, Integer>();\n",
    "        int[] list = new int[5000];\n",
    "\n",
    "        for (int i = 0; i < list.length; i++) {\n",
    "            Integer value = (int) (Math.random() * 5000);\n",
    "            hashmap.put(value, value);\n",
    "            list[i] = value;\n",
    "        }\n",
    "\n",
    "        long lookUpTime = (lookUp(hashmap, 12));\n",
    "        System.out.println(\"Look up time: \" + lookUpTime + \" nanoseconds\");\n",
    "        long binarySearchTime = (binarySearchTime(list, 12));\n",
    "        System.out.println(\"Binary search time: \" + binarySearchTime + \" nanoseconds\");\n",
    "        \n",
    "    }\n",
    "\n",
    "    public static long lookUp(HashMap<Integer, Integer> hashmap, Integer value) {\n",
    "        long start = System.nanoTime();\n",
    "        hashmap.containsKey(value);\n",
    "        long end = System.nanoTime();\n",
    "        return (end - start);\n",
    "    }\n",
    "\n",
    "    public static long binarySearchTime(int[] list, Integer value) {\n",
    "        long start = System.nanoTime();\n",
    "        // binary search \n",
    "        int low = 0;\n",
    "        int high = list.length - 1;\n",
    "        int middle = (low + high) / 2;\n",
    "        while (low <= high) {\n",
    "            if (list[middle] < value) {\n",
    "                low = middle + 1;\n",
    "            } else if (list[middle] == value) {\n",
    "                break;\n",
    "            } else {\n",
    "                high = middle - 1;\n",
    "            }\n",
    "            middle = (low + high) / 2;\n",
    "        }\n",
    "        long end = System.nanoTime();\n",
    "        return (end - start);\n",
    "    }\n",
    "}\n",
    "Hash.main(null);"
   ]
  },
  {
   "cell_type": "markdown",
   "metadata": {},
   "source": [
    "## Big O analysis\n",
    "- Fastest is merge sort\n",
    "- 2nd fastest is selection sort\n",
    "- 3rd fastest is insertion sort\n",
    "- 4th fastest is bubble sort\n",
    "\n",
    "\n",
    "### Conclusion\n",
    "- The fastest algorithm is merge sort\n",
    "- Makes sense as it has a O(n*log(n)) time complexity\n",
    "- Slowest is bubble sort\n",
    "- Has a O(n^2) time complexity making it inefficient in comparison"
   ]
  }
 ],
 "metadata": {
  "kernelspec": {
   "display_name": "Java",
   "language": "java",
   "name": "java"
  },
  "language_info": {
   "codemirror_mode": "java",
   "file_extension": ".jshell",
   "mimetype": "text/x-java-source",
   "name": "Java",
   "pygments_lexer": "java",
   "version": "18.0.2.1+1-1"
  },
  "orig_nbformat": 4
 },
 "nbformat": 4,
 "nbformat_minor": 2
}
