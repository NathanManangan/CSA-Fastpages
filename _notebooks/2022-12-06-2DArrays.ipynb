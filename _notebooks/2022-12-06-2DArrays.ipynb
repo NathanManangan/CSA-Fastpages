{
 "cells": [
  {
   "cell_type": "markdown",
   "metadata": {},
   "source": [
    "# \"2D Arrays Notebook\"\n",
    "> \"Captures Key Learnings 2D Arrays\"\n",
    "\n",
    "- toc: true\n",
    "- branch: master\n",
    "- badges: true\n",
    "- comments: true\n",
    "- categories: [CodeCodeCode]"
   ]
  },
  {
   "cell_type": "markdown",
   "metadata": {},
   "source": [
    "# Iterations and Repetition (2D Arrays)\n",
    "- An array inside of an array\n",
    "- Multi dimensional\n",
    "- iterating through an array to get values"
   ]
  },
  {
   "cell_type": "code",
   "execution_count": null,
   "metadata": {
    "vscode": {
     "languageId": "java"
    }
   },
   "outputs": [],
   "source": [
    "int[][] numbers;\n",
    "String[][] names;\n",
    "char[][] letters;\n",
    "float[][] floats;\n",
    "double[][] doubles;\n",
    "Object[][] objects;"
   ]
  },
  {
   "cell_type": "markdown",
   "metadata": {},
   "source": [
    "# Accessing Values Inside of an Array\n",
    "- int[][]products = new int [10][10]; //creating 2D Array\n",
    "- printing values up, down, left, right, upside down, badabing badaboong yadda yadda yes yes\n",
    "\n",
    "# Homework\n",
    "- Create a class for 2D array learning.\n",
    "- Create a method too set a 2D array with arbitrary values\n",
    "- Create a method to reverse the 2D array and print out the values\n",
    "- Create a method that asks for the input of a position and it returns the corresponding value\n",
    "- Create a method that multiplies each value in a row and then adds all the products together\n",
    "- Create a new object to test out each method in the main function"
   ]
  },
  {
   "cell_type": "code",
   "execution_count": 95,
   "metadata": {
    "vscode": {
     "languageId": "java"
    }
   },
   "outputs": [
    {
     "name": "stdout",
     "output_type": "stream",
     "text": [
      "Regular Array - Unaltered\n",
      "123 \n",
      "456 \n",
      "789 \n",
      " \n",
      "Array - Reversed\n",
      "789 \n",
      "456 \n",
      "123 \n",
      " \n",
      "Array - Input display\n",
      "Enter row (integer)\n",
      "Enter column (integer)\n",
      "Row: 3 | Column: 3 | Number: 9\n",
      " \n",
      "Array - Sum of Products of Rows\n",
      "Sum = 630\n"
     ]
    }
   ],
   "source": [
    "import java.util.Scanner;  \n",
    "\n",
    "public class AaditGupta {\n",
    "    int[][] bananas = {{1,2,3}, {4,5,6}, {7,8,9}};\n",
    "\n",
    "    public void regular(){\n",
    "        System.out.println(\"Regular Array - Unaltered\");\n",
    "        for(int i = 0; bananas.length > i; i++){\n",
    "            for(int j=0; j < bananas[i].length; j++){\n",
    "                System.out.print(bananas[i][j]);\n",
    "            }\n",
    "            System.out.println(\" \");\n",
    "        }\n",
    "        System.out.println(\" \");\n",
    "    }\n",
    "\n",
    "    public void mixmix(){\n",
    "        int[] a = bananas[0];\n",
    "        int[] b = bananas[2];\n",
    "        bananas[0] = b;\n",
    "        bananas[2] = a;\n",
    "        System.out.println(\"Array - Reversed\");\n",
    "        for(int i = 0; bananas.length > i; i++){\n",
    "            for(int j=0; j < bananas[i].length; j++){\n",
    "                System.out.print(bananas[i][j]);\n",
    "            }\n",
    "            System.out.println(\" \");\n",
    "        }\n",
    "        bananas[2] = b;\n",
    "        bananas[0] = a;\n",
    "        System.out.println(\" \");\n",
    "    }\n",
    "    \n",
    "    public void input(){\n",
    "        System.out.println(\"Array - Input display\");\n",
    "        Scanner myObj = new Scanner(System.in);  \n",
    "        System.out.println(\"Enter row (integer)\");\n",
    "        int row = myObj.nextInt() - 1;  // Read user input\n",
    "        System.out.println(\"Enter column (integer)\");\n",
    "        int column = myObj.nextInt() - 1;  // Read user input\n",
    "        System.out.println(\"Row: \" + (row+1) + \" | Column: \" + (column+1) + \" | Number: \" +bananas[row][column]);\n",
    "        System.out.println(\" \");\n",
    "    }\n",
    "\n",
    "    public void multiply(){\n",
    "        System.out.println(\"Array - Sum of Products of Rows\");\n",
    "        int a = 0;\n",
    "        int sum = 0;\n",
    "        boolean first = true;\n",
    "        for(int i=0; i < bananas.length; i++){\n",
    "            for(int j=0; j < bananas[i].length; j++){\n",
    "                if(first == true){\n",
    "                    a += bananas[i][j];\n",
    "                    first = false;\n",
    "                }\n",
    "                else{\n",
    "                    a *= bananas[i][j];\n",
    "                }\n",
    "            }\n",
    "            sum += a;\n",
    "            a = 0;\n",
    "            first = true;\n",
    "        }\n",
    "        // 6, 120, 504\n",
    "        System.out.println(\"Sum = \" + sum); // 630\n",
    "    }\n",
    "\n",
    "    public static void main(String[] args) {\n",
    "        AaditGupta aaditGupta = new AaditGupta();\n",
    "        aaditGupta.regular();\n",
    "        aaditGupta.mixmix();\n",
    "        aaditGupta.input();\n",
    "        aaditGupta.multiply();\n",
    "    }\n",
    "}\n",
    "\n",
    "AaditGupta.main(null);"
   ]
  }
 ],
 "metadata": {
  "language_info": {
   "name": "python"
  },
  "orig_nbformat": 4
 },
 "nbformat": 4,
 "nbformat_minor": 2
}
