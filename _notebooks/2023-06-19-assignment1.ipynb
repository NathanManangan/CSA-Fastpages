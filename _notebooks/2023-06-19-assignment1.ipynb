{
 "cells": [
  {
   "attachments": {},
   "cell_type": "markdown",
   "metadata": {},
   "source": [
    "# Module Assignments\n",
    "> Machine Learning AI and Math\n",
    "\n",
    "- layout: default\n",
    "- badges: false\n",
    "- type: pbl"
   ]
  },
  {
   "attachments": {},
   "cell_type": "markdown",
   "metadata": {},
   "source": [
    "# Module #1 Assignment"
   ]
  },
  {
   "cell_type": "code",
   "execution_count": 61,
   "metadata": {},
   "outputs": [
    {
     "name": "stdout",
     "output_type": "stream",
     "text": [
      "is less than 5 years old\n",
      "is between 5 years old and 10 years old\n",
      "is between 11 years old and 20 years old\n",
      "is between 21 years old and 64 years old\n",
      "is greater than 64 years old\n",
      "is less than 5 years old\n",
      "Banana Montana is between 21 years old and 64 years old\n",
      "Elon Musk is between 21 years old and 64 years old\n"
     ]
    },
    {
     "data": {
      "text/plain": [
       "TestResults(failed=0, attempted=0)"
      ]
     },
     "execution_count": 61,
     "metadata": {},
     "output_type": "execute_result"
    }
   ],
   "source": [
    "import doctest\n",
    "\n",
    "def ageCategory1 (age):\n",
    "    if age < 5:\n",
    "        print(\"is less than 5 years old\")\n",
    "    elif age >= 5 and age <= 10:\n",
    "        print(\"is between 5 years old and 10 years old\")\n",
    "    elif age >= 11 and age <= 20:\n",
    "        print(\"is between 11 years old and 20 years old\")\n",
    "    elif age >= 21 and age <= 64:\n",
    "        print(\"is between 21 years old and 64 years old\")\n",
    "    elif age > 64:\n",
    "        print(\"is greater than 64 years old\")\n",
    "\n",
    "def ageCategory2 (age):\n",
    "    if age < 5:\n",
    "        return \"is less than 5 years old\"\n",
    "    elif age >= 5 and age <= 10:\n",
    "        return \"is between 5 years old and 10 years old\"\n",
    "    elif age >= 11 and age <= 20:\n",
    "        return \"is between 11 years old and 20 years old\"\n",
    "    elif age >= 21 and age <= 64:\n",
    "        return \"is between 21 years old and 64 years old\"\n",
    "    elif age > 64:\n",
    "        return \"is greater than 64 years old\"\n",
    "    \n",
    "\n",
    "def ageCategory3 (*profile):\n",
    "    return profile[0], ageCategory2(profile[1]), profile[2], ageCategory2(profile[3])\n",
    "    \n",
    "def main():\n",
    "    ageCategory1(1)\n",
    "    ageCategory1(5)\n",
    "    ageCategory1(15)\n",
    "    ageCategory1(64)\n",
    "    ageCategory1(100)\n",
    "\n",
    "    print(ageCategory2(1))\n",
    "\n",
    "    three = ageCategory3(\"Banana Montana\", 46, \"Elon Musk\", 51)\n",
    "    print(three[0], three[1])\n",
    "    print(three[2], three[3])\n",
    "\n",
    "main()\n",
    "\n",
    "doctest.testmod()\n"
   ]
  },
  {
   "attachments": {},
   "cell_type": "markdown",
   "metadata": {},
   "source": [
    "# Module #2 Assignment\n",
    "## Assignment - Lists"
   ]
  },
  {
   "cell_type": "code",
   "execution_count": 7,
   "metadata": {},
   "outputs": [
    {
     "name": "stdout",
     "output_type": "stream",
     "text": [
      "[['Nathan', '17', '4.2']]\n",
      "[['Nathan', '17', '4.2'], ['Kaila', '20', '3.7']]\n",
      "[['Nathan', '17', '4.2'], ['Kaila', '20', '3.7'], ['Ian', '15', '3.4']]\n",
      "[['Nathan', '17', '4.2'], ['Kaila', '20', '3.7'], ['Ian', '15', '3.4'], ['Trveor', '17', '3.5']]\n",
      "[['Nathan', '17', '4.2'], ['Kaila', '20', '3.7'], ['Ian', '15', '3.4'], ['Trveor', '17', '3.5'], ['Troy', '17', '3.0']]\n",
      "[['Kaila', '20', '3.7'], ['Ian', '15', '3.4'], ['Trveor', '17', '3.5']]\n",
      "Accessing GPA\n",
      "3.7\n",
      "3.4\n",
      "3.5\n"
     ]
    },
    {
     "data": {
      "text/plain": [
       "TestResults(failed=0, attempted=0)"
      ]
     },
     "execution_count": 7,
     "metadata": {},
     "output_type": "execute_result"
    }
   ],
   "source": [
    "import doctest\n",
    "import random\n",
    "\n",
    "list1 = []\n",
    "random_numbers = random.sample(range(0, 4), 3)\n",
    "\n",
    "def interviewee():\n",
    "    name = input(\"What is your name? \")\n",
    "    age = input(\"How old are you? \")\n",
    "    gpa = input(\"What is your gpa? \")\n",
    "\n",
    "    list = [name, age, gpa]\n",
    "    list1.append(list)\n",
    "    print(list1)\n",
    "    return list1\n",
    "\n",
    "def manager():\n",
    "    prompt = input(\"Menu\\n1. Enter 0 to access Name \\n2. Enter 1 to access Age\\n3. Enter 2 to access GPA\\nEnter Choice Here:\")\n",
    "    if prompt == \"0\":\n",
    "        print(\"Accessing Names\")\n",
    "        return 0\n",
    "    elif prompt == \"1\":\n",
    "        print(\"Accessing Age\")\n",
    "        return 1\n",
    "    elif prompt == \"2\":\n",
    "        print(\"Accessing GPA\")\n",
    "        return 2\n",
    "    else:\n",
    "        print(\"Error, Try again\")\n",
    "\n",
    "def main():\n",
    "    employees = []\n",
    "    for i in range(0,5):\n",
    "        interviewee()\n",
    "    for i in random_numbers:\n",
    "        employees.append(list1[i])\n",
    "    print(employees)\n",
    "\n",
    "    x = manager()\n",
    "    for i in employees:\n",
    "        print(i[x])\n",
    "\n",
    "main()\n",
    "doctest.testmod()"
   ]
  },
  {
   "attachments": {},
   "cell_type": "markdown",
   "metadata": {},
   "source": [
    "## Assignment - Dictionaries"
   ]
  },
  {
   "cell_type": "code",
   "execution_count": 27,
   "metadata": {},
   "outputs": [
    {
     "name": "stdout",
     "output_type": "stream",
     "text": [
      "Basketball: 30\n",
      "Baseball: 8\n",
      "Football: 20\n",
      "Soccer Ball: 20\n",
      "Tennis Ball: 30\n",
      "\n",
      "\n",
      "Soccer Ball: 20\n",
      "Helmet: 20\n",
      "Bat: 30\n",
      "Tennis Racket: 20\n",
      "Spikes: 10\n",
      "Bag: 35\n",
      "\n",
      "\n",
      "Soccer Ball: 20\n",
      "Bag: 35\n",
      "Cost w/o tax 55\n",
      "Cost w/ tax 59.400000000000006\n"
     ]
    },
    {
     "data": {
      "text/plain": [
       "TestResults(failed=0, attempted=0)"
      ]
     },
     "execution_count": 27,
     "metadata": {},
     "output_type": "execute_result"
    }
   ],
   "source": [
    "import doctest\n",
    "ballsPrices = {'Basketball': 30,\n",
    "               'Baseball': 8,\n",
    "               'Football': 20,\n",
    "               'Soccer Ball': 20,\n",
    "               'Tennis Ball': 30, }\n",
    "clothesPrices = {'Shirt': 15,\n",
    "                 'Shorts': 12,\n",
    "                 'Socks': 10,\n",
    "                 'Hats': 15,\n",
    "                 'Shoes': 50 }\n",
    "gearPrices= {'Helmet': 20,\n",
    "             'Bat': 30,\n",
    "             'Tennis Racket': 20,\n",
    "             'Spikes': 10,\n",
    "             'Bag': 35 }\n",
    "sportNathan = {'Balls': ballsPrices,\n",
    "               'Clothes': clothesPrices,\n",
    "               'Gear': gearPrices }\n",
    "    \n",
    "cart = {}\n",
    "def main():\n",
    "    prompt = input(\"Shopping Cart\\n1. Enter 0 to access Balls\\n2. Enter 1 to access Clothes\\n3. Enter 2 to access Gear\\n4. Enter 3 to Checkout\\nEnter Choice Here: \")\n",
    "    if prompt == \"0\":\n",
    "        for key, value in ballsPrices.items():\n",
    "            print(f\"{key}: {value}\")\n",
    "        ballprompt = input(\"Enter Name of Item Here (Capitals Matter): \")\n",
    "        print(\"\\n\")\n",
    "        cart[ballprompt] = ballsPrices.get(ballprompt)\n",
    "        for key, value in cart.items():\n",
    "            print(f\"{key}: {value}\")\n",
    "        main()\n",
    "    elif prompt == \"1\":\n",
    "        for key, value in clothesPrices.items():\n",
    "            print(f\"{key}: {value}\")\n",
    "        clothesprompt = input(\"Enter Name of Item Here (Capitals Matter): \")\n",
    "        print(\"\\n\")\n",
    "        cart[clothesprompt] = clothesPrices.get(clothesprompt)\n",
    "        for key, value in cart.items():\n",
    "            print(f\"{key}: {value}\")\n",
    "        main()\n",
    "    elif prompt == \"2\":\n",
    "        for key, value in gearPrices.items():\n",
    "            print(f\"{key}: {value}\")\n",
    "        gearprompt = input(\"Enter Name of Item Here (Capitals Matter): \")\n",
    "        print(\"\\n\")\n",
    "        cart[gearprompt] = gearPrices.get(gearprompt)\n",
    "        print(\"\\n Your Cart\")\n",
    "        for key, value in cart.items():\n",
    "            print(f\"{key}: {value}\")\n",
    "        main()\n",
    "    elif prompt == \"3\":\n",
    "        total = sum(cart.values())\n",
    "        print(\"Cost w/o tax \" + str(total))\n",
    "        total *= 1.08\n",
    "        print(\"Cost w/ tax \"+ str(total))\n",
    "    else:\n",
    "        print(\"Error, Try again\")\n",
    "\n",
    "main()\n",
    "doctest.testmod()"
   ]
  },
  {
   "attachments": {},
   "cell_type": "markdown",
   "metadata": {},
   "source": [
    "## Assignment Queues"
   ]
  },
  {
   "cell_type": "code",
   "execution_count": 31,
   "metadata": {},
   "outputs": [
    {
     "name": "stdout",
     "output_type": "stream",
     "text": [
      "Welcome to a queue task list maker!\n",
      "What would you like to do?\n",
      "1. Add a task\n",
      "2. Look at the first task\n",
      "3. Complete and Remove the first task\n",
      "4. Clear all the tasks\n",
      "5. Exit\n",
      "Task Homework added!\n",
      "\n",
      "\n",
      "What would you like to do?\n",
      "1. Add a task\n",
      "2. Look at the first task\n",
      "3. Complete and Remove the first task\n",
      "4. Clear all the tasks\n",
      "5. Exit\n",
      "Your first task is Homework\n",
      "\n",
      "\n",
      "What would you like to do?\n",
      "1. Add a task\n",
      "2. Look at the first task\n",
      "3. Complete and Remove the first task\n",
      "4. Clear all the tasks\n",
      "5. Exit\n",
      "Goodbye!\n"
     ]
    }
   ],
   "source": [
    "import doctest\n",
    "def main():\n",
    "    tasks = []\n",
    "\n",
    "    print(\"Welcome to a queue task list maker!\")\n",
    "    while True:\n",
    "        print(\"What would you like to do?\")\n",
    "        print(\"1. Add a task\")\n",
    "        print(\"2. Look at the first task\")\n",
    "        print(\"3. Complete and Remove the first task\")\n",
    "        print(\"4. Clear all the tasks\")\n",
    "        print(\"5. Exit\")\n",
    "\n",
    "        choice = input(\"Enter your choice (1-5): \")\n",
    "\n",
    "        if choice == \"1\":\n",
    "            newtask = input(\"Add your task\")\n",
    "            tasks.append(newtask)\n",
    "            print(\"Task \" + str(newtask) + \" added!\")\n",
    "\n",
    "        elif choice == \"2\":\n",
    "            first = tasks[0]\n",
    "            print(\"Your first task is \" + str(first))\n",
    "\n",
    "        elif choice == \"3\":\n",
    "            tasks.pop(0)\n",
    "\n",
    "        elif choice == \"4\":\n",
    "            tasks.clear()\n",
    "\n",
    "        elif choice == \"5\":\n",
    "            print(\"Goodbye!\")\n",
    "            break\n",
    "\n",
    "        else:\n",
    "            print(\"Invalid choice! Please enter a number between 1 and 5.\")\n",
    "\n",
    "        print(\"\\n\")\n",
    "\n",
    "main()\n",
    "doctest.testmod()"
   ]
  }
 ],
 "metadata": {
  "kernelspec": {
   "display_name": "Python 3",
   "language": "python",
   "name": "python3"
  },
  "language_info": {
   "codemirror_mode": {
    "name": "ipython",
    "version": 3
   },
   "file_extension": ".py",
   "mimetype": "text/x-python",
   "name": "python",
   "nbconvert_exporter": "python",
   "pygments_lexer": "ipython3",
   "version": "3.10.6"
  },
  "orig_nbformat": 4
 },
 "nbformat": 4,
 "nbformat_minor": 2
}
