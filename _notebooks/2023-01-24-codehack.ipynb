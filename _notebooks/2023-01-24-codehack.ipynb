{
 "cells": [
  {
   "cell_type": "code",
   "execution_count": 20,
   "metadata": {},
   "outputs": [],
   "source": [
    "public static int countA(String str)\n",
    "\n",
    "{\n",
    "\n",
    "int count = 0;\n",
    "\n",
    " \n",
    "\n",
    "while (str.length() > 0)\n",
    "\n",
    "{\n",
    "\n",
    "int pos = str.indexOf(\"A\");\n",
    "\n",
    "if (pos >= 0)\n",
    "\n",
    "{\n",
    "\n",
    "count++;\n",
    "\n",
    "str = str.substring(0, pos);\n",
    "\n",
    "}\n",
    "\n",
    "else\n",
    "\n",
    "{\n",
    "\n",
    "return count;\n",
    "\n",
    "}\n",
    "\n",
    "}\n",
    "\n",
    "return count;\n",
    "\n",
    "}"
   ]
  }
 ],
 "metadata": {
  "kernelspec": {
   "display_name": "Java",
   "language": "java",
   "name": "java"
  },
  "language_info": {
   "codemirror_mode": "java",
   "file_extension": ".jshell",
   "mimetype": "text/x-java-source",
   "name": "java",
   "pygments_lexer": "java",
   "version": "18.0.2.1+1-1"
  },
  "orig_nbformat": 4
 },
 "nbformat": 4,
 "nbformat_minor": 2
}
