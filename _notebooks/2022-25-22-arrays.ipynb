{
 "cells": [
  {
   "cell_type": "markdown",
   "metadata": {},
   "source": [
    "# \"Arrays Notebook\"\n",
    "> \"Captures Key Learnings Array Lesson\"\n",
    "\n",
    "- toc: true\n",
    "- branch: master\n",
    "- badges: true\n",
    "- comments: true\n",
    "- categories: [CodeCodeCode]"
   ]
  },
  {
   "cell_type": "markdown",
   "metadata": {},
   "source": [
    "# What is an Array?\n",
    "- Element -> 1 value in an array\n",
    "- Index -> the position of the value in the array\n",
    "- Declaring an array int[] array = new int[10];\n",
    "- Bound errors -> accessing an element that does not exist\n",
    "- Uninitialized and Unfilled arrays, assigning an array variable but not the whole array\n",
    "- Traversing array, can use while but mainly for loop\n",
    "- enhanced for loop .. for (int element:values)\n",
    "\n",
    "# Important Collegeboard\n",
    "- array.length(), array[i]"
   ]
  },
  {
   "cell_type": "code",
   "execution_count": 21,
   "metadata": {
    "vscode": {
     "languageId": "java"
    }
   },
   "outputs": [
    {
     "name": "stdout",
     "output_type": "stream",
     "text": [
      "0th Index = 1\n",
      "5th Index = 5\n",
      "0th Index = 5\n",
      "5th Index = 1\n"
     ]
    }
   ],
   "source": [
    "// Write array methods for the Array Methods class below out of the options given above.\n",
    "public class ArrayMethods {\n",
    "    private static int[] values = {1,2,3,4,5};\n",
    "\n",
    "    public static void swap(){\n",
    "        System.out.println(\"0th Index = \" + values[0]);\n",
    "        System.out.println(\"4th Index = \" + values[4]);\n",
    "        int a = values[0];\n",
    "        int b = values[4];\n",
    "        values[0] = b;\n",
    "        values[4] = a;\n",
    "        System.out.println(\"0th Index = \" + values[0]);\n",
    "        System.out.println(\"4th Index = \" + values[4]);\n",
    "    }\n",
    "}\n",
    "\n",
    "ArrayMethods.swap();"
   ]
  },
  {
   "cell_type": "markdown",
   "metadata": {},
   "source": []
  }
 ],
 "metadata": {
  "kernelspec": {
   "display_name": "Java",
   "language": "java",
   "name": "java"
  },
  "language_info": {
   "codemirror_mode": "java",
   "file_extension": ".jshell",
   "mimetype": "text/x-java-source",
   "name": "Java",
   "pygments_lexer": "java",
   "version": "18.0.2.1+1-1"
  },
  "orig_nbformat": 4
 },
 "nbformat": 4,
 "nbformat_minor": 2
}
